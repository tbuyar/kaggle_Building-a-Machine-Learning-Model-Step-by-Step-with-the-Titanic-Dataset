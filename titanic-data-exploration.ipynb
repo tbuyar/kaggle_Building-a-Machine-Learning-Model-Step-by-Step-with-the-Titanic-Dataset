{
 "cells": [
  {
   "cell_type": "markdown",
   "metadata": {
    "papermill": {
     "duration": 0.082747,
     "end_time": "2020-09-23T18:05:29.214424",
     "exception": false,
     "start_time": "2020-09-23T18:05:29.131677",
     "status": "completed"
    },
    "tags": []
   },
   "source": [
    "# Building a Machine Learning Model Step by Step with the Titanic Dataset"
   ]
  },
  {
   "cell_type": "markdown",
   "metadata": {
    "papermill": {
     "duration": 0.075355,
     "end_time": "2020-09-23T18:05:29.364751",
     "exception": false,
     "start_time": "2020-09-23T18:05:29.289396",
     "status": "completed"
    },
    "tags": []
   },
   "source": [
    "RMS Titanic sank on 15 April 1912 in the North Atlantic Ocean, when struck an iceberg. There were 2,224 passengers on board and this disaster resulted in the deaths of more than 1,500 people.\n",
    "In this project, I will analyze the factors which are important for the survival ratio by using data visualization. After some feature engineering, I will build a machine learning model to predict survived passengers."
   ]
  },
  {
   "cell_type": "markdown",
   "metadata": {
    "papermill": {
     "duration": 0.075663,
     "end_time": "2020-09-23T18:05:29.515343",
     "exception": false,
     "start_time": "2020-09-23T18:05:29.439680",
     "status": "completed"
    },
    "tags": []
   },
   "source": [
    "### 1. Importing data and libaries"
   ]
  },
  {
   "cell_type": "code",
   "execution_count": 1,
   "metadata": {
    "_cell_guid": "b1076dfc-b9ad-4769-8c92-a6c4dae69d19",
    "_uuid": "8f2839f25d086af736a60e9eeb907d3b93b6e0e5",
    "execution": {
     "iopub.execute_input": "2020-09-23T18:05:29.671774Z",
     "iopub.status.busy": "2020-09-23T18:05:29.670911Z",
     "iopub.status.idle": "2020-09-23T18:05:29.675938Z",
     "shell.execute_reply": "2020-09-23T18:05:29.675148Z"
    },
    "papermill": {
     "duration": 0.085922,
     "end_time": "2020-09-23T18:05:29.676066",
     "exception": false,
     "start_time": "2020-09-23T18:05:29.590144",
     "status": "completed"
    },
    "tags": []
   },
   "outputs": [
    {
     "name": "stdout",
     "output_type": "stream",
     "text": [
      "/kaggle/input/titanic/gender_submission.csv\n",
      "/kaggle/input/titanic/test.csv\n",
      "/kaggle/input/titanic/train.csv\n"
     ]
    }
   ],
   "source": [
    "import os\n",
    "for dirname, _, filenames in os.walk('/kaggle/input'):\n",
    "    for filename in filenames:\n",
    "        print(os.path.join(dirname, filename))"
   ]
  },
  {
   "cell_type": "code",
   "execution_count": 2,
   "metadata": {
    "execution": {
     "iopub.execute_input": "2020-09-23T18:05:29.840793Z",
     "iopub.status.busy": "2020-09-23T18:05:29.839996Z",
     "iopub.status.idle": "2020-09-23T18:05:30.995610Z",
     "shell.execute_reply": "2020-09-23T18:05:30.994599Z"
    },
    "papermill": {
     "duration": 1.24104,
     "end_time": "2020-09-23T18:05:30.995770",
     "exception": false,
     "start_time": "2020-09-23T18:05:29.754730",
     "status": "completed"
    },
    "tags": []
   },
   "outputs": [],
   "source": [
    "import numpy as np # linear algebra\n",
    "import pandas as pd # data processing, CSV file I/O (e.g. pd.read_csv)\n",
    "import matplotlib.pyplot as plt\n",
    "%matplotlib inline\n",
    "import seaborn as sns"
   ]
  },
  {
   "cell_type": "markdown",
   "metadata": {
    "papermill": {
     "duration": 0.075991,
     "end_time": "2020-09-23T18:05:31.158021",
     "exception": false,
     "start_time": "2020-09-23T18:05:31.082030",
     "status": "completed"
    },
    "tags": []
   },
   "source": [
    "### 2. Data sets"
   ]
  },
  {
   "cell_type": "code",
   "execution_count": 3,
   "metadata": {
    "_cell_guid": "79c7e3d0-c299-4dcb-8224-4455121ee9b0",
    "_uuid": "d629ff2d2480ee46fbb7e2d37f6b5fab8052498a",
    "execution": {
     "iopub.execute_input": "2020-09-23T18:05:31.325283Z",
     "iopub.status.busy": "2020-09-23T18:05:31.324425Z",
     "iopub.status.idle": "2020-09-23T18:05:31.345691Z",
     "shell.execute_reply": "2020-09-23T18:05:31.345036Z"
    },
    "papermill": {
     "duration": 0.105226,
     "end_time": "2020-09-23T18:05:31.345832",
     "exception": false,
     "start_time": "2020-09-23T18:05:31.240606",
     "status": "completed"
    },
    "tags": []
   },
   "outputs": [],
   "source": [
    "train_data = pd.read_csv(\"/kaggle/input/titanic/train.csv\")\n",
    "test_data = pd.read_csv(\"/kaggle/input/titanic/test.csv\")"
   ]
  },
  {
   "cell_type": "code",
   "execution_count": 4,
   "metadata": {
    "execution": {
     "iopub.execute_input": "2020-09-23T18:05:31.516936Z",
     "iopub.status.busy": "2020-09-23T18:05:31.515826Z",
     "iopub.status.idle": "2020-09-23T18:05:31.529109Z",
     "shell.execute_reply": "2020-09-23T18:05:31.528518Z"
    },
    "papermill": {
     "duration": 0.108075,
     "end_time": "2020-09-23T18:05:31.529246",
     "exception": false,
     "start_time": "2020-09-23T18:05:31.421171",
     "status": "completed"
    },
    "tags": []
   },
   "outputs": [
    {
     "data": {
      "text/html": [
       "<div>\n",
       "<style scoped>\n",
       "    .dataframe tbody tr th:only-of-type {\n",
       "        vertical-align: middle;\n",
       "    }\n",
       "\n",
       "    .dataframe tbody tr th {\n",
       "        vertical-align: top;\n",
       "    }\n",
       "\n",
       "    .dataframe thead th {\n",
       "        text-align: right;\n",
       "    }\n",
       "</style>\n",
       "<table border=\"1\" class=\"dataframe\">\n",
       "  <thead>\n",
       "    <tr style=\"text-align: right;\">\n",
       "      <th></th>\n",
       "      <th>PassengerId</th>\n",
       "      <th>Survived</th>\n",
       "      <th>Pclass</th>\n",
       "      <th>Name</th>\n",
       "      <th>Sex</th>\n",
       "      <th>Age</th>\n",
       "      <th>SibSp</th>\n",
       "      <th>Parch</th>\n",
       "      <th>Ticket</th>\n",
       "      <th>Fare</th>\n",
       "      <th>Cabin</th>\n",
       "      <th>Embarked</th>\n",
       "    </tr>\n",
       "  </thead>\n",
       "  <tbody>\n",
       "    <tr>\n",
       "      <th>0</th>\n",
       "      <td>1</td>\n",
       "      <td>0</td>\n",
       "      <td>3</td>\n",
       "      <td>Braund, Mr. Owen Harris</td>\n",
       "      <td>male</td>\n",
       "      <td>22.0</td>\n",
       "      <td>1</td>\n",
       "      <td>0</td>\n",
       "      <td>A/5 21171</td>\n",
       "      <td>7.2500</td>\n",
       "      <td>NaN</td>\n",
       "      <td>S</td>\n",
       "    </tr>\n",
       "    <tr>\n",
       "      <th>1</th>\n",
       "      <td>2</td>\n",
       "      <td>1</td>\n",
       "      <td>1</td>\n",
       "      <td>Cumings, Mrs. John Bradley (Florence Briggs Th...</td>\n",
       "      <td>female</td>\n",
       "      <td>38.0</td>\n",
       "      <td>1</td>\n",
       "      <td>0</td>\n",
       "      <td>PC 17599</td>\n",
       "      <td>71.2833</td>\n",
       "      <td>C85</td>\n",
       "      <td>C</td>\n",
       "    </tr>\n",
       "    <tr>\n",
       "      <th>2</th>\n",
       "      <td>3</td>\n",
       "      <td>1</td>\n",
       "      <td>3</td>\n",
       "      <td>Heikkinen, Miss. Laina</td>\n",
       "      <td>female</td>\n",
       "      <td>26.0</td>\n",
       "      <td>0</td>\n",
       "      <td>0</td>\n",
       "      <td>STON/O2. 3101282</td>\n",
       "      <td>7.9250</td>\n",
       "      <td>NaN</td>\n",
       "      <td>S</td>\n",
       "    </tr>\n",
       "    <tr>\n",
       "      <th>3</th>\n",
       "      <td>4</td>\n",
       "      <td>1</td>\n",
       "      <td>1</td>\n",
       "      <td>Futrelle, Mrs. Jacques Heath (Lily May Peel)</td>\n",
       "      <td>female</td>\n",
       "      <td>35.0</td>\n",
       "      <td>1</td>\n",
       "      <td>0</td>\n",
       "      <td>113803</td>\n",
       "      <td>53.1000</td>\n",
       "      <td>C123</td>\n",
       "      <td>S</td>\n",
       "    </tr>\n",
       "    <tr>\n",
       "      <th>4</th>\n",
       "      <td>5</td>\n",
       "      <td>0</td>\n",
       "      <td>3</td>\n",
       "      <td>Allen, Mr. William Henry</td>\n",
       "      <td>male</td>\n",
       "      <td>35.0</td>\n",
       "      <td>0</td>\n",
       "      <td>0</td>\n",
       "      <td>373450</td>\n",
       "      <td>8.0500</td>\n",
       "      <td>NaN</td>\n",
       "      <td>S</td>\n",
       "    </tr>\n",
       "  </tbody>\n",
       "</table>\n",
       "</div>"
      ],
      "text/plain": [
       "   PassengerId  Survived  Pclass  \\\n",
       "0            1         0       3   \n",
       "1            2         1       1   \n",
       "2            3         1       3   \n",
       "3            4         1       1   \n",
       "4            5         0       3   \n",
       "\n",
       "                                                Name     Sex   Age  SibSp  \\\n",
       "0                            Braund, Mr. Owen Harris    male  22.0      1   \n",
       "1  Cumings, Mrs. John Bradley (Florence Briggs Th...  female  38.0      1   \n",
       "2                             Heikkinen, Miss. Laina  female  26.0      0   \n",
       "3       Futrelle, Mrs. Jacques Heath (Lily May Peel)  female  35.0      1   \n",
       "4                           Allen, Mr. William Henry    male  35.0      0   \n",
       "\n",
       "   Parch            Ticket     Fare Cabin Embarked  \n",
       "0      0         A/5 21171   7.2500   NaN        S  \n",
       "1      0          PC 17599  71.2833   C85        C  \n",
       "2      0  STON/O2. 3101282   7.9250   NaN        S  \n",
       "3      0            113803  53.1000  C123        S  \n",
       "4      0            373450   8.0500   NaN        S  "
      ]
     },
     "execution_count": 4,
     "metadata": {},
     "output_type": "execute_result"
    }
   ],
   "source": [
    "train_data.head()"
   ]
  },
  {
   "cell_type": "code",
   "execution_count": 5,
   "metadata": {
    "execution": {
     "iopub.execute_input": "2020-09-23T18:05:31.687067Z",
     "iopub.status.busy": "2020-09-23T18:05:31.686227Z",
     "iopub.status.idle": "2020-09-23T18:05:31.690765Z",
     "shell.execute_reply": "2020-09-23T18:05:31.690037Z"
    },
    "papermill": {
     "duration": 0.085522,
     "end_time": "2020-09-23T18:05:31.690906",
     "exception": false,
     "start_time": "2020-09-23T18:05:31.605384",
     "status": "completed"
    },
    "tags": []
   },
   "outputs": [
    {
     "data": {
      "text/plain": [
       "(891, 12)"
      ]
     },
     "execution_count": 5,
     "metadata": {},
     "output_type": "execute_result"
    }
   ],
   "source": [
    "train_data.shape"
   ]
  },
  {
   "cell_type": "code",
   "execution_count": 6,
   "metadata": {
    "execution": {
     "iopub.execute_input": "2020-09-23T18:05:31.852794Z",
     "iopub.status.busy": "2020-09-23T18:05:31.851769Z",
     "iopub.status.idle": "2020-09-23T18:05:31.857283Z",
     "shell.execute_reply": "2020-09-23T18:05:31.856379Z"
    },
    "papermill": {
     "duration": 0.089145,
     "end_time": "2020-09-23T18:05:31.857440",
     "exception": false,
     "start_time": "2020-09-23T18:05:31.768295",
     "status": "completed"
    },
    "tags": []
   },
   "outputs": [
    {
     "data": {
      "text/plain": [
       "(418, 11)"
      ]
     },
     "execution_count": 6,
     "metadata": {},
     "output_type": "execute_result"
    }
   ],
   "source": [
    "test_data.shape"
   ]
  },
  {
   "cell_type": "markdown",
   "metadata": {
    "papermill": {
     "duration": 0.077242,
     "end_time": "2020-09-23T18:05:32.012795",
     "exception": false,
     "start_time": "2020-09-23T18:05:31.935553",
     "status": "completed"
    },
    "tags": []
   },
   "source": [
    "We have two data sets that are train and test data sets. Our train data set has 11 features excluding the target column (survived)."
   ]
  },
  {
   "cell_type": "code",
   "execution_count": 7,
   "metadata": {
    "execution": {
     "iopub.execute_input": "2020-09-23T18:05:32.209995Z",
     "iopub.status.busy": "2020-09-23T18:05:32.208868Z",
     "iopub.status.idle": "2020-09-23T18:05:32.217693Z",
     "shell.execute_reply": "2020-09-23T18:05:32.216879Z"
    },
    "papermill": {
     "duration": 0.12737,
     "end_time": "2020-09-23T18:05:32.217889",
     "exception": false,
     "start_time": "2020-09-23T18:05:32.090519",
     "status": "completed"
    },
    "tags": []
   },
   "outputs": [
    {
     "name": "stdout",
     "output_type": "stream",
     "text": [
      "<class 'pandas.core.frame.DataFrame'>\n",
      "RangeIndex: 891 entries, 0 to 890\n",
      "Data columns (total 12 columns):\n",
      " #   Column       Non-Null Count  Dtype  \n",
      "---  ------       --------------  -----  \n",
      " 0   PassengerId  891 non-null    int64  \n",
      " 1   Survived     891 non-null    int64  \n",
      " 2   Pclass       891 non-null    int64  \n",
      " 3   Name         891 non-null    object \n",
      " 4   Sex          891 non-null    object \n",
      " 5   Age          714 non-null    float64\n",
      " 6   SibSp        891 non-null    int64  \n",
      " 7   Parch        891 non-null    int64  \n",
      " 8   Ticket       891 non-null    object \n",
      " 9   Fare         891 non-null    float64\n",
      " 10  Cabin        204 non-null    object \n",
      " 11  Embarked     889 non-null    object \n",
      "dtypes: float64(2), int64(5), object(5)\n",
      "memory usage: 83.7+ KB\n",
      "<class 'pandas.core.frame.DataFrame'>\n",
      "RangeIndex: 418 entries, 0 to 417\n",
      "Data columns (total 11 columns):\n",
      " #   Column       Non-Null Count  Dtype  \n",
      "---  ------       --------------  -----  \n",
      " 0   PassengerId  418 non-null    int64  \n",
      " 1   Pclass       418 non-null    int64  \n",
      " 2   Name         418 non-null    object \n",
      " 3   Sex          418 non-null    object \n",
      " 4   Age          332 non-null    float64\n",
      " 5   SibSp        418 non-null    int64  \n",
      " 6   Parch        418 non-null    int64  \n",
      " 7   Ticket       418 non-null    object \n",
      " 8   Fare         417 non-null    float64\n",
      " 9   Cabin        91 non-null     object \n",
      " 10  Embarked     418 non-null    object \n",
      "dtypes: float64(2), int64(4), object(5)\n",
      "memory usage: 36.0+ KB\n"
     ]
    }
   ],
   "source": [
    "train_data.info()\n",
    "test_data.info()"
   ]
  },
  {
   "cell_type": "markdown",
   "metadata": {
    "papermill": {
     "duration": 0.08132,
     "end_time": "2020-09-23T18:05:32.393211",
     "exception": false,
     "start_time": "2020-09-23T18:05:32.311891",
     "status": "completed"
    },
    "tags": []
   },
   "source": [
    "When we check the info of the train data and test data, we see dtype of features and non-null values in the columns. As we can see on the info of columns. There are missing values at Age, Cabin and Embarked columns of train data. In the test data, Age, Fare and Cabin columns has missing values. We will deal with them later."
   ]
  },
  {
   "cell_type": "markdown",
   "metadata": {
    "papermill": {
     "duration": 0.079388,
     "end_time": "2020-09-23T18:05:32.550756",
     "exception": false,
     "start_time": "2020-09-23T18:05:32.471368",
     "status": "completed"
    },
    "tags": []
   },
   "source": [
    "### 3. Data exploration by visualizing"
   ]
  },
  {
   "cell_type": "markdown",
   "metadata": {
    "papermill": {
     "duration": 0.07747,
     "end_time": "2020-09-23T18:05:32.708621",
     "exception": false,
     "start_time": "2020-09-23T18:05:32.631151",
     "status": "completed"
    },
    "tags": []
   },
   "source": [
    "Let's analyze data by using some plots."
   ]
  },
  {
   "cell_type": "code",
   "execution_count": 8,
   "metadata": {
    "execution": {
     "iopub.execute_input": "2020-09-23T18:05:32.886798Z",
     "iopub.status.busy": "2020-09-23T18:05:32.880260Z",
     "iopub.status.idle": "2020-09-23T18:05:32.891414Z",
     "shell.execute_reply": "2020-09-23T18:05:32.890685Z"
    },
    "papermill": {
     "duration": 0.10442,
     "end_time": "2020-09-23T18:05:32.891534",
     "exception": false,
     "start_time": "2020-09-23T18:05:32.787114",
     "status": "completed"
    },
    "tags": []
   },
   "outputs": [
    {
     "data": {
      "text/html": [
       "<div>\n",
       "<style scoped>\n",
       "    .dataframe tbody tr th:only-of-type {\n",
       "        vertical-align: middle;\n",
       "    }\n",
       "\n",
       "    .dataframe tbody tr th {\n",
       "        vertical-align: top;\n",
       "    }\n",
       "\n",
       "    .dataframe thead th {\n",
       "        text-align: right;\n",
       "    }\n",
       "</style>\n",
       "<table border=\"1\" class=\"dataframe\">\n",
       "  <thead>\n",
       "    <tr style=\"text-align: right;\">\n",
       "      <th></th>\n",
       "      <th>Sex</th>\n",
       "      <th>Survived</th>\n",
       "    </tr>\n",
       "  </thead>\n",
       "  <tbody>\n",
       "    <tr>\n",
       "      <th>0</th>\n",
       "      <td>female</td>\n",
       "      <td>0.742038</td>\n",
       "    </tr>\n",
       "    <tr>\n",
       "      <th>1</th>\n",
       "      <td>male</td>\n",
       "      <td>0.188908</td>\n",
       "    </tr>\n",
       "  </tbody>\n",
       "</table>\n",
       "</div>"
      ],
      "text/plain": [
       "      Sex  Survived\n",
       "0  female  0.742038\n",
       "1    male  0.188908"
      ]
     },
     "execution_count": 8,
     "metadata": {},
     "output_type": "execute_result"
    }
   ],
   "source": [
    "train_data[['Sex', 'Survived']].groupby(['Sex'], as_index=False).mean()"
   ]
  },
  {
   "cell_type": "code",
   "execution_count": 9,
   "metadata": {
    "execution": {
     "iopub.execute_input": "2020-09-23T18:05:33.056703Z",
     "iopub.status.busy": "2020-09-23T18:05:33.055915Z",
     "iopub.status.idle": "2020-09-23T18:05:33.276746Z",
     "shell.execute_reply": "2020-09-23T18:05:33.275964Z"
    },
    "papermill": {
     "duration": 0.306677,
     "end_time": "2020-09-23T18:05:33.276899",
     "exception": false,
     "start_time": "2020-09-23T18:05:32.970222",
     "status": "completed"
    },
    "tags": []
   },
   "outputs": [
    {
     "data": {
      "text/plain": [
       "<matplotlib.axes._subplots.AxesSubplot at 0x7f2048202bd0>"
      ]
     },
     "execution_count": 9,
     "metadata": {},
     "output_type": "execute_result"
    },
    {
     "data": {
      "image/png": "[encoded data removed]",
      "text/plain": [
       "<Figure size 432x288 with 1 Axes>"
      ]
     },
     "metadata": {
      "needs_background": "light"
     },
     "output_type": "display_data"
    }
   ],
   "source": [
    "sns.countplot(train_data[\"Survived\"], hue=train_data[\"Sex\"])"
   ]
  },
  {
   "cell_type": "markdown",
   "metadata": {
    "papermill": {
     "duration": 0.081112,
     "end_time": "2020-09-23T18:05:34.123615",
     "exception": false,
     "start_time": "2020-09-23T18:05:34.042503",
     "status": "completed"
    },
    "tags": []
   },
   "source": [
    "When we look the gender vs surviving rates, results look interesting. Surviving ratio in females is much more than males'. According to this data, there is strong corrolation between survived and sex columns."
   ]
  },
  {
   "cell_type": "code",
   "execution_count": 10,
   "metadata": {
    "execution": {
     "iopub.execute_input": "2020-09-23T18:05:33.453363Z",
     "iopub.status.busy": "2020-09-23T18:05:33.447466Z",
     "iopub.status.idle": "2020-09-23T18:05:33.458502Z",
     "shell.execute_reply": "2020-09-23T18:05:33.457849Z"
    },
    "papermill": {
     "duration": 0.101123,
     "end_time": "2020-09-23T18:05:33.458646",
     "exception": false,
     "start_time": "2020-09-23T18:05:33.357523",
     "status": "completed"
    },
    "tags": []
   },
   "outputs": [
    {
     "data": {
      "text/html": [
       "<div>\n",
       "<style scoped>\n",
       "    .dataframe tbody tr th:only-of-type {\n",
       "        vertical-align: middle;\n",
       "    }\n",
       "\n",
       "    .dataframe tbody tr th {\n",
       "        vertical-align: top;\n",
       "    }\n",
       "\n",
       "    .dataframe thead th {\n",
       "        text-align: right;\n",
       "    }\n",
       "</style>\n",
       "<table border=\"1\" class=\"dataframe\">\n",
       "  <thead>\n",
       "    <tr style=\"text-align: right;\">\n",
       "      <th></th>\n",
       "      <th>Embarked</th>\n",
       "      <th>Survived</th>\n",
       "    </tr>\n",
       "  </thead>\n",
       "  <tbody>\n",
       "    <tr>\n",
       "      <th>0</th>\n",
       "      <td>C</td>\n",
       "      <td>0.553571</td>\n",
       "    </tr>\n",
       "    <tr>\n",
       "      <th>1</th>\n",
       "      <td>Q</td>\n",
       "      <td>0.389610</td>\n",
       "    </tr>\n",
       "    <tr>\n",
       "      <th>2</th>\n",
       "      <td>S</td>\n",
       "      <td>0.336957</td>\n",
       "    </tr>\n",
       "  </tbody>\n",
       "</table>\n",
       "</div>"
      ],
      "text/plain": [
       "  Embarked  Survived\n",
       "0        C  0.553571\n",
       "1        Q  0.389610\n",
       "2        S  0.336957"
      ]
     },
     "execution_count": 10,
     "metadata": {},
     "output_type": "execute_result"
    }
   ],
   "source": [
    "train_data[['Embarked', 'Survived']].groupby(['Embarked'], as_index=False).mean()"
   ]
  },
  {
   "cell_type": "code",
   "execution_count": 11,
   "metadata": {
    "execution": {
     "iopub.execute_input": "2020-09-23T18:05:33.628878Z",
     "iopub.status.busy": "2020-09-23T18:05:33.627749Z",
     "iopub.status.idle": "2020-09-23T18:05:33.793642Z",
     "shell.execute_reply": "2020-09-23T18:05:33.793015Z"
    },
    "papermill": {
     "duration": 0.253188,
     "end_time": "2020-09-23T18:05:33.793766",
     "exception": false,
     "start_time": "2020-09-23T18:05:33.540578",
     "status": "completed"
    },
    "tags": []
   },
   "outputs": [
    {
     "data": {
      "text/plain": [
       "<matplotlib.axes._subplots.AxesSubplot at 0x7f2043fbc590>"
      ]
     },
     "execution_count": 11,
     "metadata": {},
     "output_type": "execute_result"
    },
    {
     "data": {
      "image/png": "[encoded data removed]",
      "text/plain": [
       "<Figure size 432x288 with 1 Axes>"
      ]
     },
     "metadata": {
      "needs_background": "light"
     },
     "output_type": "display_data"
    }
   ],
   "source": [
    "sns.countplot(train_data[\"Survived\"], hue=train_data[\"Embarked\"])"
   ]
  },
  {
   "cell_type": "markdown",
   "metadata": {
    "papermill": {
     "duration": 0.082829,
     "end_time": "2020-09-23T18:05:33.961041",
     "exception": false,
     "start_time": "2020-09-23T18:05:33.878212",
     "status": "completed"
    },
    "tags": []
   },
   "source": [
    "Embarked feature shows port of embarkation which are C = Cherbourg, Q = Queenstown, and S = Southampton.\n",
    "According to table which shows surviving ratio regarding embarked feature, passengers embarked from Cherbourg have higher surviving ratio."
   ]
  },
  {
   "cell_type": "markdown",
   "metadata": {
    "papermill": {
     "duration": 0.081098,
     "end_time": "2020-09-23T18:05:34.287232",
     "exception": false,
     "start_time": "2020-09-23T18:05:34.206134",
     "status": "completed"
    },
    "tags": []
   },
   "source": [
    "Pclass column involves 3 different values. \n",
    "\n",
    "1st = Upper\n",
    "2nd = Middle\n",
    "3rd = Lower"
   ]
  },
  {
   "cell_type": "code",
   "execution_count": 12,
   "metadata": {
    "execution": {
     "iopub.execute_input": "2020-09-23T18:05:34.467243Z",
     "iopub.status.busy": "2020-09-23T18:05:34.462333Z",
     "iopub.status.idle": "2020-09-23T18:05:34.471833Z",
     "shell.execute_reply": "2020-09-23T18:05:34.471186Z"
    },
    "papermill": {
     "duration": 0.10132,
     "end_time": "2020-09-23T18:05:34.471961",
     "exception": false,
     "start_time": "2020-09-23T18:05:34.370641",
     "status": "completed"
    },
    "tags": []
   },
   "outputs": [
    {
     "data": {
      "text/html": [
       "<div>\n",
       "<style scoped>\n",
       "    .dataframe tbody tr th:only-of-type {\n",
       "        vertical-align: middle;\n",
       "    }\n",
       "\n",
       "    .dataframe tbody tr th {\n",
       "        vertical-align: top;\n",
       "    }\n",
       "\n",
       "    .dataframe thead th {\n",
       "        text-align: right;\n",
       "    }\n",
       "</style>\n",
       "<table border=\"1\" class=\"dataframe\">\n",
       "  <thead>\n",
       "    <tr style=\"text-align: right;\">\n",
       "      <th></th>\n",
       "      <th>Pclass</th>\n",
       "      <th>Survived</th>\n",
       "    </tr>\n",
       "  </thead>\n",
       "  <tbody>\n",
       "    <tr>\n",
       "      <th>0</th>\n",
       "      <td>1</td>\n",
       "      <td>0.629630</td>\n",
       "    </tr>\n",
       "    <tr>\n",
       "      <th>1</th>\n",
       "      <td>2</td>\n",
       "      <td>0.472826</td>\n",
       "    </tr>\n",
       "    <tr>\n",
       "      <th>2</th>\n",
       "      <td>3</td>\n",
       "      <td>0.242363</td>\n",
       "    </tr>\n",
       "  </tbody>\n",
       "</table>\n",
       "</div>"
      ],
      "text/plain": [
       "   Pclass  Survived\n",
       "0       1  0.629630\n",
       "1       2  0.472826\n",
       "2       3  0.242363"
      ]
     },
     "execution_count": 12,
     "metadata": {},
     "output_type": "execute_result"
    }
   ],
   "source": [
    "train_data[['Pclass', 'Survived']].groupby(['Pclass'], as_index=False).mean()"
   ]
  },
  {
   "cell_type": "code",
   "execution_count": 13,
   "metadata": {
    "execution": {
     "iopub.execute_input": "2020-09-23T18:05:34.645967Z",
     "iopub.status.busy": "2020-09-23T18:05:34.645191Z",
     "iopub.status.idle": "2020-09-23T18:05:34.827070Z",
     "shell.execute_reply": "2020-09-23T18:05:34.826447Z"
    },
    "papermill": {
     "duration": 0.271596,
     "end_time": "2020-09-23T18:05:34.827196",
     "exception": false,
     "start_time": "2020-09-23T18:05:34.555600",
     "status": "completed"
    },
    "tags": []
   },
   "outputs": [
    {
     "data": {
      "text/plain": [
       "<matplotlib.axes._subplots.AxesSubplot at 0x7f2043e3d710>"
      ]
     },
     "execution_count": 13,
     "metadata": {},
     "output_type": "execute_result"
    },
    {
     "data": {
      "image/png": "[encoded data removed]",
      "text/plain": [
       "<Figure size 432x288 with 1 Axes>"
      ]
     },
     "metadata": {
      "needs_background": "light"
     },
     "output_type": "display_data"
    }
   ],
   "source": [
    "sns.countplot(train_data[\"Survived\"], hue=train_data[\"Pclass\"])"
   ]
  },
  {
   "cell_type": "markdown",
   "metadata": {
    "papermill": {
     "duration": 0.083555,
     "end_time": "2020-09-23T18:05:34.995895",
     "exception": false,
     "start_time": "2020-09-23T18:05:34.912340",
     "status": "completed"
    },
    "tags": []
   },
   "source": [
    "According to data set, class of passenger looks like important for surviving. Majority of passangers from upper class have survived. Large number of 3rd class did not survived. "
   ]
  },
  {
   "cell_type": "code",
   "execution_count": 14,
   "metadata": {
    "execution": {
     "iopub.execute_input": "2020-09-23T18:05:35.177740Z",
     "iopub.status.busy": "2020-09-23T18:05:35.170614Z",
     "iopub.status.idle": "2020-09-23T18:05:35.387902Z",
     "shell.execute_reply": "2020-09-23T18:05:35.387250Z"
    },
    "papermill": {
     "duration": 0.30818,
     "end_time": "2020-09-23T18:05:35.388029",
     "exception": false,
     "start_time": "2020-09-23T18:05:35.079849",
     "status": "completed"
    },
    "tags": []
   },
   "outputs": [
    {
     "data": {
      "text/plain": [
       "<seaborn.axisgrid.FacetGrid at 0x7f2041e27c10>"
      ]
     },
     "execution_count": 14,
     "metadata": {},
     "output_type": "execute_result"
    },
    {
     "data": {
      "image/png": "[encoded data removed]",
      "text/plain": [
       "<Figure size 360x360 with 1 Axes>"
      ]
     },
     "metadata": {
      "needs_background": "light"
     },
     "output_type": "display_data"
    }
   ],
   "source": [
    "sns.catplot(x=\"Survived\",y=\"Fare\",data=train_data, kind=\"boxen\")"
   ]
  },
  {
   "cell_type": "code",
   "execution_count": 15,
   "metadata": {
    "execution": {
     "iopub.execute_input": "2020-09-23T18:05:35.572240Z",
     "iopub.status.busy": "2020-09-23T18:05:35.567761Z",
     "iopub.status.idle": "2020-09-23T18:05:36.084258Z",
     "shell.execute_reply": "2020-09-23T18:05:36.083497Z"
    },
    "papermill": {
     "duration": 0.609605,
     "end_time": "2020-09-23T18:05:36.084391",
     "exception": false,
     "start_time": "2020-09-23T18:05:35.474786",
     "status": "completed"
    },
    "tags": []
   },
   "outputs": [
    {
     "data": {
      "text/plain": [
       "<seaborn.axisgrid.FacetGrid at 0x7f2041d46510>"
      ]
     },
     "execution_count": 15,
     "metadata": {},
     "output_type": "execute_result"
    },
    {
     "data": {
      "image/png": "[encoded data removed]",
      "text/plain": [
       "<Figure size 432x216 with 2 Axes>"
      ]
     },
     "metadata": {
      "needs_background": "light"
     },
     "output_type": "display_data"
    }
   ],
   "source": [
    "g = sns.FacetGrid(train_data, col='Survived')\n",
    "g.map(plt.hist, 'Fare', bins=20)"
   ]
  },
  {
   "cell_type": "markdown",
   "metadata": {
    "papermill": {
     "duration": 0.087083,
     "end_time": "2020-09-23T18:05:36.258235",
     "exception": false,
     "start_time": "2020-09-23T18:05:36.171152",
     "status": "completed"
    },
    "tags": []
   },
   "source": [
    "Ticket fares column is one of the numerical features. When we look the histogram and boxen graphs, we make couple of comments about correlation between fares and survival rates. \n",
    "<br>Average fare value for survived passangers much higer than not survived ones. Also histogram shows that most of the passengers have survived, who pay more than 100.\n",
    "<br>This result is expected because we can guess that there should be correlation between pclass and fares."
   ]
  },
  {
   "cell_type": "code",
   "execution_count": 16,
   "metadata": {
    "execution": {
     "iopub.execute_input": "2020-09-23T18:05:36.450402Z",
     "iopub.status.busy": "2020-09-23T18:05:36.449346Z",
     "iopub.status.idle": "2020-09-23T18:05:36.908005Z",
     "shell.execute_reply": "2020-09-23T18:05:36.907371Z"
    },
    "papermill": {
     "duration": 0.563072,
     "end_time": "2020-09-23T18:05:36.908137",
     "exception": false,
     "start_time": "2020-09-23T18:05:36.345065",
     "status": "completed"
    },
    "tags": []
   },
   "outputs": [
    {
     "data": {
      "text/plain": [
       "<seaborn.axisgrid.FacetGrid at 0x7f2041d62c50>"
      ]
     },
     "execution_count": 16,
     "metadata": {},
     "output_type": "execute_result"
    },
    {
     "data": {
      "image/png": "[encoded data removed]",
      "text/plain": [
       "<Figure size 432x216 with 2 Axes>"
      ]
     },
     "metadata": {
      "needs_background": "light"
     },
     "output_type": "display_data"
    }
   ],
   "source": [
    "g = sns.FacetGrid(train_data, col='Survived')\n",
    "g.map(plt.hist, 'Age', bins=15)"
   ]
  },
  {
   "cell_type": "markdown",
   "metadata": {
    "papermill": {
     "duration": 0.088022,
     "end_time": "2020-09-23T18:05:37.084754",
     "exception": false,
     "start_time": "2020-09-23T18:05:36.996732",
     "status": "completed"
    },
    "tags": []
   },
   "source": [
    "When we plot histogram chart for the \"age\" which is another numerical feature, we can get some useful tips.\n",
    "Children (Age<10) has high survival rates.Middle ages (25-35 years old) have surivived more than young ages (15-35 years old)."
   ]
  },
  {
   "cell_type": "code",
   "execution_count": 17,
   "metadata": {
    "execution": {
     "iopub.execute_input": "2020-09-23T18:05:37.268929Z",
     "iopub.status.busy": "2020-09-23T18:05:37.268150Z",
     "iopub.status.idle": "2020-09-23T18:05:37.471717Z",
     "shell.execute_reply": "2020-09-23T18:05:37.471145Z"
    },
    "papermill": {
     "duration": 0.298785,
     "end_time": "2020-09-23T18:05:37.471862",
     "exception": false,
     "start_time": "2020-09-23T18:05:37.173077",
     "status": "completed"
    },
    "tags": []
   },
   "outputs": [
    {
     "data": {
      "text/plain": [
       "<matplotlib.axes._subplots.AxesSubplot at 0x7f2041b10590>"
      ]
     },
     "execution_count": 17,
     "metadata": {},
     "output_type": "execute_result"
    },
    {
     "data": {
      "image/png": "[encoded data removed]",
      "text/plain": [
       "<Figure size 432x288 with 1 Axes>"
      ]
     },
     "metadata": {
      "needs_background": "light"
     },
     "output_type": "display_data"
    }
   ],
   "source": [
    "sns.countplot(train_data[\"Survived\"], hue=train_data[\"Parch\"])"
   ]
  },
  {
   "cell_type": "code",
   "execution_count": 18,
   "metadata": {
    "execution": {
     "iopub.execute_input": "2020-09-23T18:05:37.660261Z",
     "iopub.status.busy": "2020-09-23T18:05:37.657931Z",
     "iopub.status.idle": "2020-09-23T18:05:37.872333Z",
     "shell.execute_reply": "2020-09-23T18:05:37.871600Z"
    },
    "papermill": {
     "duration": 0.31109,
     "end_time": "2020-09-23T18:05:37.872464",
     "exception": false,
     "start_time": "2020-09-23T18:05:37.561374",
     "status": "completed"
    },
    "tags": []
   },
   "outputs": [
    {
     "data": {
      "text/plain": [
       "<matplotlib.axes._subplots.AxesSubplot at 0x7f2041a9e650>"
      ]
     },
     "execution_count": 18,
     "metadata": {},
     "output_type": "execute_result"
    },
    {
     "data": {
      "image/png": "[encoded data removed]",
      "text/plain": [
       "<Figure size 432x288 with 1 Axes>"
      ]
     },
     "metadata": {
      "needs_background": "light"
     },
     "output_type": "display_data"
    }
   ],
   "source": [
    "sns.countplot(train_data[\"Survived\"], hue=train_data[\"SibSp\"])"
   ]
  },
  {
   "cell_type": "code",
   "execution_count": 19,
   "metadata": {
    "execution": {
     "iopub.execute_input": "2020-09-23T18:05:38.117481Z",
     "iopub.status.busy": "2020-09-23T18:05:38.116437Z",
     "iopub.status.idle": "2020-09-23T18:05:38.121353Z",
     "shell.execute_reply": "2020-09-23T18:05:38.120627Z"
    },
    "papermill": {
     "duration": 0.111573,
     "end_time": "2020-09-23T18:05:38.121486",
     "exception": false,
     "start_time": "2020-09-23T18:05:38.009913",
     "status": "completed"
    },
    "tags": []
   },
   "outputs": [
    {
     "data": {
      "text/html": [
       "<div>\n",
       "<style scoped>\n",
       "    .dataframe tbody tr th:only-of-type {\n",
       "        vertical-align: middle;\n",
       "    }\n",
       "\n",
       "    .dataframe tbody tr th {\n",
       "        vertical-align: top;\n",
       "    }\n",
       "\n",
       "    .dataframe thead th {\n",
       "        text-align: right;\n",
       "    }\n",
       "</style>\n",
       "<table border=\"1\" class=\"dataframe\">\n",
       "  <thead>\n",
       "    <tr style=\"text-align: right;\">\n",
       "      <th></th>\n",
       "      <th>SibSp</th>\n",
       "      <th>Survived</th>\n",
       "    </tr>\n",
       "  </thead>\n",
       "  <tbody>\n",
       "    <tr>\n",
       "      <th>1</th>\n",
       "      <td>1</td>\n",
       "      <td>0.535885</td>\n",
       "    </tr>\n",
       "    <tr>\n",
       "      <th>2</th>\n",
       "      <td>2</td>\n",
       "      <td>0.464286</td>\n",
       "    </tr>\n",
       "    <tr>\n",
       "      <th>0</th>\n",
       "      <td>0</td>\n",
       "      <td>0.345395</td>\n",
       "    </tr>\n",
       "    <tr>\n",
       "      <th>3</th>\n",
       "      <td>3</td>\n",
       "      <td>0.250000</td>\n",
       "    </tr>\n",
       "    <tr>\n",
       "      <th>4</th>\n",
       "      <td>4</td>\n",
       "      <td>0.166667</td>\n",
       "    </tr>\n",
       "    <tr>\n",
       "      <th>5</th>\n",
       "      <td>5</td>\n",
       "      <td>0.000000</td>\n",
       "    </tr>\n",
       "    <tr>\n",
       "      <th>6</th>\n",
       "      <td>8</td>\n",
       "      <td>0.000000</td>\n",
       "    </tr>\n",
       "  </tbody>\n",
       "</table>\n",
       "</div>"
      ],
      "text/plain": [
       "   SibSp  Survived\n",
       "1      1  0.535885\n",
       "2      2  0.464286\n",
       "0      0  0.345395\n",
       "3      3  0.250000\n",
       "4      4  0.166667\n",
       "5      5  0.000000\n",
       "6      8  0.000000"
      ]
     },
     "execution_count": 19,
     "metadata": {},
     "output_type": "execute_result"
    }
   ],
   "source": [
    "train_data[['SibSp', 'Survived']].groupby(['SibSp'], as_index=False).mean().sort_values(by='Survived', ascending=False)"
   ]
  },
  {
   "cell_type": "markdown",
   "metadata": {
    "papermill": {
     "duration": 0.091222,
     "end_time": "2020-09-23T18:05:38.304315",
     "exception": false,
     "start_time": "2020-09-23T18:05:38.213093",
     "status": "completed"
    },
    "tags": []
   },
   "source": [
    "Parch and SibSp features are related with the family connections. Parch is number of parents and children. SibSp is number of sblings and spouse. It looks like being single is not an advantage for surviving."
   ]
  },
  {
   "cell_type": "code",
   "execution_count": 20,
   "metadata": {
    "execution": {
     "iopub.execute_input": "2020-09-23T18:05:38.506050Z",
     "iopub.status.busy": "2020-09-23T18:05:38.505106Z",
     "iopub.status.idle": "2020-09-23T18:05:38.510379Z",
     "shell.execute_reply": "2020-09-23T18:05:38.509728Z"
    },
    "papermill": {
     "duration": 0.113352,
     "end_time": "2020-09-23T18:05:38.510554",
     "exception": false,
     "start_time": "2020-09-23T18:05:38.397202",
     "status": "completed"
    },
    "tags": []
   },
   "outputs": [
    {
     "data": {
      "text/html": [
       "<div>\n",
       "<style scoped>\n",
       "    .dataframe tbody tr th:only-of-type {\n",
       "        vertical-align: middle;\n",
       "    }\n",
       "\n",
       "    .dataframe tbody tr th {\n",
       "        vertical-align: top;\n",
       "    }\n",
       "\n",
       "    .dataframe thead th {\n",
       "        text-align: right;\n",
       "    }\n",
       "</style>\n",
       "<table border=\"1\" class=\"dataframe\">\n",
       "  <thead>\n",
       "    <tr style=\"text-align: right;\">\n",
       "      <th></th>\n",
       "      <th>Parch</th>\n",
       "      <th>Survived</th>\n",
       "    </tr>\n",
       "  </thead>\n",
       "  <tbody>\n",
       "    <tr>\n",
       "      <th>3</th>\n",
       "      <td>3</td>\n",
       "      <td>0.600000</td>\n",
       "    </tr>\n",
       "    <tr>\n",
       "      <th>1</th>\n",
       "      <td>1</td>\n",
       "      <td>0.550847</td>\n",
       "    </tr>\n",
       "    <tr>\n",
       "      <th>2</th>\n",
       "      <td>2</td>\n",
       "      <td>0.500000</td>\n",
       "    </tr>\n",
       "    <tr>\n",
       "      <th>0</th>\n",
       "      <td>0</td>\n",
       "      <td>0.343658</td>\n",
       "    </tr>\n",
       "    <tr>\n",
       "      <th>5</th>\n",
       "      <td>5</td>\n",
       "      <td>0.200000</td>\n",
       "    </tr>\n",
       "    <tr>\n",
       "      <th>4</th>\n",
       "      <td>4</td>\n",
       "      <td>0.000000</td>\n",
       "    </tr>\n",
       "    <tr>\n",
       "      <th>6</th>\n",
       "      <td>6</td>\n",
       "      <td>0.000000</td>\n",
       "    </tr>\n",
       "  </tbody>\n",
       "</table>\n",
       "</div>"
      ],
      "text/plain": [
       "   Parch  Survived\n",
       "3      3  0.600000\n",
       "1      1  0.550847\n",
       "2      2  0.500000\n",
       "0      0  0.343658\n",
       "5      5  0.200000\n",
       "4      4  0.000000\n",
       "6      6  0.000000"
      ]
     },
     "execution_count": 20,
     "metadata": {},
     "output_type": "execute_result"
    }
   ],
   "source": [
    "train_data[['Parch', 'Survived']].groupby(['Parch'], as_index=False).mean().sort_values(by='Survived', ascending=False)"
   ]
  },
  {
   "cell_type": "markdown",
   "metadata": {
    "papermill": {
     "duration": 0.092522,
     "end_time": "2020-09-23T18:05:38.696252",
     "exception": false,
     "start_time": "2020-09-23T18:05:38.603730",
     "status": "completed"
    },
    "tags": []
   },
   "source": [
    "We can plot a graph to see the all correlations between numerical features. There are 2 similar functions for to create this plot.\n",
    "One of them is pairplot from sns and the other one is plotting scatter_matrix from pandas."
   ]
  },
  {
   "cell_type": "code",
   "execution_count": 21,
   "metadata": {
    "execution": {
     "iopub.execute_input": "2020-09-23T18:05:38.888522Z",
     "iopub.status.busy": "2020-09-23T18:05:38.887740Z",
     "iopub.status.idle": "2020-09-23T18:05:42.285082Z",
     "shell.execute_reply": "2020-09-23T18:05:42.285682Z"
    },
    "papermill": {
     "duration": 3.496701,
     "end_time": "2020-09-23T18:05:42.285873",
     "exception": false,
     "start_time": "2020-09-23T18:05:38.789172",
     "status": "completed"
    },
    "tags": []
   },
   "outputs": [
    {
     "data": {
      "image/png": "[encoded data removed]",
      "text/plain": [
       "<Figure size 864x864 with 49 Axes>"
      ]
     },
     "metadata": {
      "needs_background": "light"
     },
     "output_type": "display_data"
    }
   ],
   "source": [
    "pd.plotting.scatter_matrix(train_data, figsize=(12,12));"
   ]
  },
  {
   "cell_type": "markdown",
   "metadata": {
    "papermill": {
     "duration": 0.097301,
     "end_time": "2020-09-23T18:05:42.481085",
     "exception": false,
     "start_time": "2020-09-23T18:05:42.383784",
     "status": "completed"
    },
    "tags": []
   },
   "source": [
    "Also we can use plot of data which is grouped according to survived column. We can again use this plot for quick look."
   ]
  },
  {
   "cell_type": "code",
   "execution_count": 22,
   "metadata": {
    "execution": {
     "iopub.execute_input": "2020-09-23T18:05:42.684001Z",
     "iopub.status.busy": "2020-09-23T18:05:42.681895Z",
     "iopub.status.idle": "2020-09-23T18:05:44.626712Z",
     "shell.execute_reply": "2020-09-23T18:05:44.625996Z"
    },
    "papermill": {
     "duration": 2.048683,
     "end_time": "2020-09-23T18:05:44.626856",
     "exception": false,
     "start_time": "2020-09-23T18:05:42.578173",
     "status": "completed"
    },
    "tags": []
   },
   "outputs": [
    {
     "data": {
      "text/plain": [
       "Survived\n",
       "0    [[AxesSubplot(0.125,0.670278;0.336957x0.209722...\n",
       "1    [[AxesSubplot(0.125,0.670278;0.336957x0.209722...\n",
       "dtype: object"
      ]
     },
     "execution_count": 22,
     "metadata": {},
     "output_type": "execute_result"
    },
    {
     "data": {
      "image/png": "[encoded data removed]",
      "text/plain": [
       "<Figure size 432x576 with 6 Axes>"
      ]
     },
     "metadata": {
      "needs_background": "light"
     },
     "output_type": "display_data"
    },
    {
     "data": {
      "image/png": "[encoded data removed]",
      "text/plain": [
       "<Figure size 432x576 with 6 Axes>"
      ]
     },
     "metadata": {
      "needs_background": "light"
     },
     "output_type": "display_data"
    }
   ],
   "source": [
    "train_data.groupby(train_data[\"Survived\"]).hist(figsize=(6,8))"
   ]
  },
  {
   "cell_type": "markdown",
   "metadata": {
    "papermill": {
     "duration": 0.098556,
     "end_time": "2020-09-23T18:05:44.824860",
     "exception": false,
     "start_time": "2020-09-23T18:05:44.726304",
     "status": "completed"
    },
    "tags": []
   },
   "source": [
    "Actually the best way to see the correlation between features is heatmap according to me. By using corr from pandas and heatmap from sns functions, we can have very clear idea about the correlations for the numerical features."
   ]
  },
  {
   "cell_type": "code",
   "execution_count": 23,
   "metadata": {
    "execution": {
     "iopub.execute_input": "2020-09-23T18:05:45.034284Z",
     "iopub.status.busy": "2020-09-23T18:05:45.033187Z",
     "iopub.status.idle": "2020-09-23T18:05:45.042236Z",
     "shell.execute_reply": "2020-09-23T18:05:45.041482Z"
    },
    "papermill": {
     "duration": 0.117845,
     "end_time": "2020-09-23T18:05:45.042362",
     "exception": false,
     "start_time": "2020-09-23T18:05:44.924517",
     "status": "completed"
    },
    "tags": []
   },
   "outputs": [
    {
     "data": {
      "text/plain": [
       "Survived       1.000000\n",
       "Pclass         0.338481\n",
       "Fare           0.257307\n",
       "Parch          0.081629\n",
       "Age            0.077221\n",
       "SibSp          0.035322\n",
       "PassengerId    0.005007\n",
       "Name: Survived, dtype: float64"
      ]
     },
     "execution_count": 23,
     "metadata": {},
     "output_type": "execute_result"
    }
   ],
   "source": [
    "cor=train_data.corr()\n",
    "cor_target=abs(cor[\"Survived\"]).sort_values(ascending=False)\n",
    "cor_target"
   ]
  },
  {
   "cell_type": "code",
   "execution_count": 24,
   "metadata": {
    "execution": {
     "iopub.execute_input": "2020-09-23T18:05:45.257908Z",
     "iopub.status.busy": "2020-09-23T18:05:45.257072Z",
     "iopub.status.idle": "2020-09-23T18:05:45.657274Z",
     "shell.execute_reply": "2020-09-23T18:05:45.656667Z"
    },
    "papermill": {
     "duration": 0.514871,
     "end_time": "2020-09-23T18:05:45.657412",
     "exception": false,
     "start_time": "2020-09-23T18:05:45.142541",
     "status": "completed"
    },
    "tags": []
   },
   "outputs": [
    {
     "data": {
      "text/plain": [
       "<matplotlib.axes._subplots.AxesSubplot at 0x7f2040ea7250>"
      ]
     },
     "execution_count": 24,
     "metadata": {},
     "output_type": "execute_result"
    },
    {
     "data": {
      "image/png": "[encoded data removed]",
      "text/plain": [
       "<Figure size 432x288 with 2 Axes>"
      ]
     },
     "metadata": {
      "needs_background": "light"
     },
     "output_type": "display_data"
    }
   ],
   "source": [
    "sns.heatmap(cor, annot=True, fmt=\".2f\")"
   ]
  },
  {
   "cell_type": "markdown",
   "metadata": {
    "papermill": {
     "duration": 0.102047,
     "end_time": "2020-09-23T18:05:45.861627",
     "exception": false,
     "start_time": "2020-09-23T18:05:45.759580",
     "status": "completed"
    },
    "tags": []
   },
   "source": [
    "As we can see on heat map there is very strong correlation between suriving and plcass and fare as I mentioned before. However, the correlation is also very strong between the pclass and fare. So, we may not have 2 different features actually.\n",
    "<br>We know that sex feature has strong correlation too, however it is not in heatmap because it is not numerical."
   ]
  },
  {
   "cell_type": "markdown",
   "metadata": {
    "papermill": {
     "duration": 0.101238,
     "end_time": "2020-09-23T18:05:46.064579",
     "exception": false,
     "start_time": "2020-09-23T18:05:45.963341",
     "status": "completed"
    },
    "tags": []
   },
   "source": [
    "### 4. Feature engineering and Modelling"
   ]
  },
  {
   "cell_type": "markdown",
   "metadata": {
    "papermill": {
     "duration": 0.101158,
     "end_time": "2020-09-23T18:05:46.267370",
     "exception": false,
     "start_time": "2020-09-23T18:05:46.166212",
     "status": "completed"
    },
    "tags": []
   },
   "source": [
    "We will start with random forest classification model for this data set. Its nonlinear nature makes it usually a great option for not only classification but also regression problems.\n",
    "<br> We will start with numerical features to create our machine learning model at the beginning."
   ]
  },
  {
   "cell_type": "code",
   "execution_count": 25,
   "metadata": {
    "execution": {
     "iopub.execute_input": "2020-09-23T18:05:46.481018Z",
     "iopub.status.busy": "2020-09-23T18:05:46.480202Z",
     "iopub.status.idle": "2020-09-23T18:05:46.483708Z",
     "shell.execute_reply": "2020-09-23T18:05:46.482984Z"
    },
    "papermill": {
     "duration": 0.113146,
     "end_time": "2020-09-23T18:05:46.483871",
     "exception": false,
     "start_time": "2020-09-23T18:05:46.370725",
     "status": "completed"
    },
    "tags": []
   },
   "outputs": [],
   "source": [
    "X=train_data[[\"Pclass\", \"Age\", \"SibSp\", \"Parch\", \"Fare\"]]\n",
    "y=train_data[\"Survived\"]"
   ]
  },
  {
   "cell_type": "markdown",
   "metadata": {
    "papermill": {
     "duration": 0.101538,
     "end_time": "2020-09-23T18:05:46.687522",
     "exception": false,
     "start_time": "2020-09-23T18:05:46.585984",
     "status": "completed"
    },
    "tags": []
   },
   "source": [
    "We split our data set into two parts which are train and test sets. It is neccessary to check the model's accuracy. Using only one data set may result in overfitting problem."
   ]
  },
  {
   "cell_type": "code",
   "execution_count": 26,
   "metadata": {
    "execution": {
     "iopub.execute_input": "2020-09-23T18:05:46.898392Z",
     "iopub.status.busy": "2020-09-23T18:05:46.897550Z",
     "iopub.status.idle": "2020-09-23T18:05:47.028030Z",
     "shell.execute_reply": "2020-09-23T18:05:47.027231Z"
    },
    "papermill": {
     "duration": 0.238772,
     "end_time": "2020-09-23T18:05:47.028155",
     "exception": false,
     "start_time": "2020-09-23T18:05:46.789383",
     "status": "completed"
    },
    "tags": []
   },
   "outputs": [],
   "source": [
    "from sklearn.model_selection import train_test_split\n",
    "\n",
    "X_train, X_test, y_train, y_test = train_test_split(X, y, test_size=0.3, random_state=42)"
   ]
  },
  {
   "cell_type": "code",
   "execution_count": 27,
   "metadata": {
    "execution": {
     "iopub.execute_input": "2020-09-23T18:05:47.238562Z",
     "iopub.status.busy": "2020-09-23T18:05:47.237769Z",
     "iopub.status.idle": "2020-09-23T18:05:47.576269Z",
     "shell.execute_reply": "2020-09-23T18:05:47.575506Z"
    },
    "papermill": {
     "duration": 0.445864,
     "end_time": "2020-09-23T18:05:47.576395",
     "exception": false,
     "start_time": "2020-09-23T18:05:47.130531",
     "status": "completed"
    },
    "tags": []
   },
   "outputs": [
    {
     "ename": "ValueError",
     "evalue": "Input contains NaN, infinity or a value too large for dtype('float32').",
     "output_type": "error",
     "traceback": [
      "\u001b[0;31m---------------------------------------------------------------------------\u001b[0m",
      "\u001b[0;31mValueError\u001b[0m                                Traceback (most recent call last)",
      "\u001b[0;32m<ipython-input-27-cc4019299ce0>\u001b[0m in \u001b[0;36m<module>\u001b[0;34m\u001b[0m\n\u001b[1;32m      2\u001b[0m \u001b[0;34m\u001b[0m\u001b[0m\n\u001b[1;32m      3\u001b[0m \u001b[0mrfc\u001b[0m\u001b[0;34m=\u001b[0m\u001b[0mRandomForestClassifier\u001b[0m\u001b[0;34m(\u001b[0m\u001b[0;34m)\u001b[0m\u001b[0;34m\u001b[0m\u001b[0;34m\u001b[0m\u001b[0m\n\u001b[0;32m----> 4\u001b[0;31m \u001b[0mrfc\u001b[0m\u001b[0;34m.\u001b[0m\u001b[0mfit\u001b[0m\u001b[0;34m(\u001b[0m\u001b[0mX_train\u001b[0m\u001b[0;34m,\u001b[0m \u001b[0my_train\u001b[0m\u001b[0;34m)\u001b[0m\u001b[0;34m\u001b[0m\u001b[0;34m\u001b[0m\u001b[0m\n\u001b[0m\u001b[1;32m      5\u001b[0m \u001b[0mrfc\u001b[0m\u001b[0;34m.\u001b[0m\u001b[0mscore\u001b[0m\u001b[0;34m(\u001b[0m\u001b[0mX_test\u001b[0m\u001b[0;34m,\u001b[0m\u001b[0my_test\u001b[0m\u001b[0;34m)\u001b[0m\u001b[0;34m\u001b[0m\u001b[0;34m\u001b[0m\u001b[0m\n",
      "\u001b[0;32m/opt/conda/lib/python3.7/site-packages/sklearn/ensemble/_forest.py\u001b[0m in \u001b[0;36mfit\u001b[0;34m(self, X, y, sample_weight)\u001b[0m\n\u001b[1;32m    302\u001b[0m             )\n\u001b[1;32m    303\u001b[0m         X, y = self._validate_data(X, y, multi_output=True,\n\u001b[0;32m--> 304\u001b[0;31m                                    accept_sparse=\"csc\", dtype=DTYPE)\n\u001b[0m\u001b[1;32m    305\u001b[0m         \u001b[0;32mif\u001b[0m \u001b[0msample_weight\u001b[0m \u001b[0;32mis\u001b[0m \u001b[0;32mnot\u001b[0m \u001b[0;32mNone\u001b[0m\u001b[0;34m:\u001b[0m\u001b[0;34m\u001b[0m\u001b[0;34m\u001b[0m\u001b[0m\n\u001b[1;32m    306\u001b[0m             \u001b[0msample_weight\u001b[0m \u001b[0;34m=\u001b[0m \u001b[0m_check_sample_weight\u001b[0m\u001b[0;34m(\u001b[0m\u001b[0msample_weight\u001b[0m\u001b[0;34m,\u001b[0m \u001b[0mX\u001b[0m\u001b[0;34m)\u001b[0m\u001b[0;34m\u001b[0m\u001b[0;34m\u001b[0m\u001b[0m\n",
      "\u001b[0;32m/opt/conda/lib/python3.7/site-packages/sklearn/base.py\u001b[0m in \u001b[0;36m_validate_data\u001b[0;34m(self, X, y, reset, validate_separately, **check_params)\u001b[0m\n\u001b[1;32m    430\u001b[0m                 \u001b[0my\u001b[0m \u001b[0;34m=\u001b[0m \u001b[0mcheck_array\u001b[0m\u001b[0;34m(\u001b[0m\u001b[0my\u001b[0m\u001b[0;34m,\u001b[0m \u001b[0;34m**\u001b[0m\u001b[0mcheck_y_params\u001b[0m\u001b[0;34m)\u001b[0m\u001b[0;34m\u001b[0m\u001b[0;34m\u001b[0m\u001b[0m\n\u001b[1;32m    431\u001b[0m             \u001b[0;32melse\u001b[0m\u001b[0;34m:\u001b[0m\u001b[0;34m\u001b[0m\u001b[0;34m\u001b[0m\u001b[0m\n\u001b[0;32m--> 432\u001b[0;31m                 \u001b[0mX\u001b[0m\u001b[0;34m,\u001b[0m \u001b[0my\u001b[0m \u001b[0;34m=\u001b[0m \u001b[0mcheck_X_y\u001b[0m\u001b[0;34m(\u001b[0m\u001b[0mX\u001b[0m\u001b[0;34m,\u001b[0m \u001b[0my\u001b[0m\u001b[0;34m,\u001b[0m \u001b[0;34m**\u001b[0m\u001b[0mcheck_params\u001b[0m\u001b[0;34m)\u001b[0m\u001b[0;34m\u001b[0m\u001b[0;34m\u001b[0m\u001b[0m\n\u001b[0m\u001b[1;32m    433\u001b[0m             \u001b[0mout\u001b[0m \u001b[0;34m=\u001b[0m \u001b[0mX\u001b[0m\u001b[0;34m,\u001b[0m \u001b[0my\u001b[0m\u001b[0;34m\u001b[0m\u001b[0;34m\u001b[0m\u001b[0m\n\u001b[1;32m    434\u001b[0m \u001b[0;34m\u001b[0m\u001b[0m\n",
      "\u001b[0;32m/opt/conda/lib/python3.7/site-packages/sklearn/utils/validation.py\u001b[0m in \u001b[0;36minner_f\u001b[0;34m(*args, **kwargs)\u001b[0m\n\u001b[1;32m     70\u001b[0m                           FutureWarning)\n\u001b[1;32m     71\u001b[0m         \u001b[0mkwargs\u001b[0m\u001b[0;34m.\u001b[0m\u001b[0mupdate\u001b[0m\u001b[0;34m(\u001b[0m\u001b[0;34m{\u001b[0m\u001b[0mk\u001b[0m\u001b[0;34m:\u001b[0m \u001b[0marg\u001b[0m \u001b[0;32mfor\u001b[0m \u001b[0mk\u001b[0m\u001b[0;34m,\u001b[0m \u001b[0marg\u001b[0m \u001b[0;32min\u001b[0m \u001b[0mzip\u001b[0m\u001b[0;34m(\u001b[0m\u001b[0msig\u001b[0m\u001b[0;34m.\u001b[0m\u001b[0mparameters\u001b[0m\u001b[0;34m,\u001b[0m \u001b[0margs\u001b[0m\u001b[0;34m)\u001b[0m\u001b[0;34m}\u001b[0m\u001b[0;34m)\u001b[0m\u001b[0;34m\u001b[0m\u001b[0;34m\u001b[0m\u001b[0m\n\u001b[0;32m---> 72\u001b[0;31m         \u001b[0;32mreturn\u001b[0m \u001b[0mf\u001b[0m\u001b[0;34m(\u001b[0m\u001b[0;34m**\u001b[0m\u001b[0mkwargs\u001b[0m\u001b[0;34m)\u001b[0m\u001b[0;34m\u001b[0m\u001b[0;34m\u001b[0m\u001b[0m\n\u001b[0m\u001b[1;32m     73\u001b[0m     \u001b[0;32mreturn\u001b[0m \u001b[0minner_f\u001b[0m\u001b[0;34m\u001b[0m\u001b[0;34m\u001b[0m\u001b[0m\n\u001b[1;32m     74\u001b[0m \u001b[0;34m\u001b[0m\u001b[0m\n",
      "\u001b[0;32m/opt/conda/lib/python3.7/site-packages/sklearn/utils/validation.py\u001b[0m in \u001b[0;36mcheck_X_y\u001b[0;34m(X, y, accept_sparse, accept_large_sparse, dtype, order, copy, force_all_finite, ensure_2d, allow_nd, multi_output, ensure_min_samples, ensure_min_features, y_numeric, estimator)\u001b[0m\n\u001b[1;32m    800\u001b[0m                     \u001b[0mensure_min_samples\u001b[0m\u001b[0;34m=\u001b[0m\u001b[0mensure_min_samples\u001b[0m\u001b[0;34m,\u001b[0m\u001b[0;34m\u001b[0m\u001b[0;34m\u001b[0m\u001b[0m\n\u001b[1;32m    801\u001b[0m                     \u001b[0mensure_min_features\u001b[0m\u001b[0;34m=\u001b[0m\u001b[0mensure_min_features\u001b[0m\u001b[0;34m,\u001b[0m\u001b[0;34m\u001b[0m\u001b[0;34m\u001b[0m\u001b[0m\n\u001b[0;32m--> 802\u001b[0;31m                     estimator=estimator)\n\u001b[0m\u001b[1;32m    803\u001b[0m     \u001b[0;32mif\u001b[0m \u001b[0mmulti_output\u001b[0m\u001b[0;34m:\u001b[0m\u001b[0;34m\u001b[0m\u001b[0;34m\u001b[0m\u001b[0m\n\u001b[1;32m    804\u001b[0m         y = check_array(y, accept_sparse='csr', force_all_finite=True,\n",
      "\u001b[0;32m/opt/conda/lib/python3.7/site-packages/sklearn/utils/validation.py\u001b[0m in \u001b[0;36minner_f\u001b[0;34m(*args, **kwargs)\u001b[0m\n\u001b[1;32m     70\u001b[0m                           FutureWarning)\n\u001b[1;32m     71\u001b[0m         \u001b[0mkwargs\u001b[0m\u001b[0;34m.\u001b[0m\u001b[0mupdate\u001b[0m\u001b[0;34m(\u001b[0m\u001b[0;34m{\u001b[0m\u001b[0mk\u001b[0m\u001b[0;34m:\u001b[0m \u001b[0marg\u001b[0m \u001b[0;32mfor\u001b[0m \u001b[0mk\u001b[0m\u001b[0;34m,\u001b[0m \u001b[0marg\u001b[0m \u001b[0;32min\u001b[0m \u001b[0mzip\u001b[0m\u001b[0;34m(\u001b[0m\u001b[0msig\u001b[0m\u001b[0;34m.\u001b[0m\u001b[0mparameters\u001b[0m\u001b[0;34m,\u001b[0m \u001b[0margs\u001b[0m\u001b[0;34m)\u001b[0m\u001b[0;34m}\u001b[0m\u001b[0;34m)\u001b[0m\u001b[0;34m\u001b[0m\u001b[0;34m\u001b[0m\u001b[0m\n\u001b[0;32m---> 72\u001b[0;31m         \u001b[0;32mreturn\u001b[0m \u001b[0mf\u001b[0m\u001b[0;34m(\u001b[0m\u001b[0;34m**\u001b[0m\u001b[0mkwargs\u001b[0m\u001b[0;34m)\u001b[0m\u001b[0;34m\u001b[0m\u001b[0;34m\u001b[0m\u001b[0m\n\u001b[0m\u001b[1;32m     73\u001b[0m     \u001b[0;32mreturn\u001b[0m \u001b[0minner_f\u001b[0m\u001b[0;34m\u001b[0m\u001b[0;34m\u001b[0m\u001b[0m\n\u001b[1;32m     74\u001b[0m \u001b[0;34m\u001b[0m\u001b[0m\n",
      "\u001b[0;32m/opt/conda/lib/python3.7/site-packages/sklearn/utils/validation.py\u001b[0m in \u001b[0;36mcheck_array\u001b[0;34m(array, accept_sparse, accept_large_sparse, dtype, order, copy, force_all_finite, ensure_2d, allow_nd, ensure_min_samples, ensure_min_features, estimator)\u001b[0m\n\u001b[1;32m    643\u001b[0m         \u001b[0;32mif\u001b[0m \u001b[0mforce_all_finite\u001b[0m\u001b[0;34m:\u001b[0m\u001b[0;34m\u001b[0m\u001b[0;34m\u001b[0m\u001b[0m\n\u001b[1;32m    644\u001b[0m             _assert_all_finite(array,\n\u001b[0;32m--> 645\u001b[0;31m                                allow_nan=force_all_finite == 'allow-nan')\n\u001b[0m\u001b[1;32m    646\u001b[0m \u001b[0;34m\u001b[0m\u001b[0m\n\u001b[1;32m    647\u001b[0m     \u001b[0;32mif\u001b[0m \u001b[0mensure_min_samples\u001b[0m \u001b[0;34m>\u001b[0m \u001b[0;36m0\u001b[0m\u001b[0;34m:\u001b[0m\u001b[0;34m\u001b[0m\u001b[0;34m\u001b[0m\u001b[0m\n",
      "\u001b[0;32m/opt/conda/lib/python3.7/site-packages/sklearn/utils/validation.py\u001b[0m in \u001b[0;36m_assert_all_finite\u001b[0;34m(X, allow_nan, msg_dtype)\u001b[0m\n\u001b[1;32m     97\u001b[0m                     \u001b[0mmsg_err\u001b[0m\u001b[0;34m.\u001b[0m\u001b[0mformat\u001b[0m\u001b[0;34m\u001b[0m\u001b[0;34m\u001b[0m\u001b[0m\n\u001b[1;32m     98\u001b[0m                     (type_err,\n\u001b[0;32m---> 99\u001b[0;31m                      msg_dtype if msg_dtype is not None else X.dtype)\n\u001b[0m\u001b[1;32m    100\u001b[0m             )\n\u001b[1;32m    101\u001b[0m     \u001b[0;31m# for object dtype data, we only check for NaNs (GH-13254)\u001b[0m\u001b[0;34m\u001b[0m\u001b[0;34m\u001b[0m\u001b[0;34m\u001b[0m\u001b[0m\n",
      "\u001b[0;31mValueError\u001b[0m: Input contains NaN, infinity or a value too large for dtype('float32')."
     ]
    }
   ],
   "source": [
    "from sklearn.ensemble import RandomForestClassifier\n",
    "\n",
    "rfc=RandomForestClassifier()\n",
    "rfc.fit(X_train, y_train)\n",
    "rfc.score(X_test,y_test)"
   ]
  },
  {
   "cell_type": "markdown",
   "metadata": {
    "papermill": {
     "duration": 0.103671,
     "end_time": "2020-09-23T18:05:47.783151",
     "exception": false,
     "start_time": "2020-09-23T18:05:47.679480",
     "status": "completed"
    },
    "tags": []
   },
   "source": [
    "It doesn't work because we need to complete missing values before the deploying of model."
   ]
  },
  {
   "cell_type": "code",
   "execution_count": 28,
   "metadata": {
    "execution": {
     "iopub.execute_input": "2020-09-23T18:05:48.008313Z",
     "iopub.status.busy": "2020-09-23T18:05:48.007508Z",
     "iopub.status.idle": "2020-09-23T18:05:48.012451Z",
     "shell.execute_reply": "2020-09-23T18:05:48.011632Z"
    },
    "papermill": {
     "duration": 0.125832,
     "end_time": "2020-09-23T18:05:48.012625",
     "exception": false,
     "start_time": "2020-09-23T18:05:47.886793",
     "status": "completed"
    },
    "tags": []
   },
   "outputs": [
    {
     "name": "stdout",
     "output_type": "stream",
     "text": [
      "<class 'pandas.core.frame.DataFrame'>\n",
      "RangeIndex: 891 entries, 0 to 890\n",
      "Data columns (total 12 columns):\n",
      " #   Column       Non-Null Count  Dtype  \n",
      "---  ------       --------------  -----  \n",
      " 0   PassengerId  891 non-null    int64  \n",
      " 1   Survived     891 non-null    int64  \n",
      " 2   Pclass       891 non-null    int64  \n",
      " 3   Name         891 non-null    object \n",
      " 4   Sex          891 non-null    object \n",
      " 5   Age          714 non-null    float64\n",
      " 6   SibSp        891 non-null    int64  \n",
      " 7   Parch        891 non-null    int64  \n",
      " 8   Ticket       891 non-null    object \n",
      " 9   Fare         891 non-null    float64\n",
      " 10  Cabin        204 non-null    object \n",
      " 11  Embarked     889 non-null    object \n",
      "dtypes: float64(2), int64(5), object(5)\n",
      "memory usage: 83.7+ KB\n",
      "<class 'pandas.core.frame.DataFrame'>\n",
      "RangeIndex: 418 entries, 0 to 417\n",
      "Data columns (total 11 columns):\n",
      " #   Column       Non-Null Count  Dtype  \n",
      "---  ------       --------------  -----  \n",
      " 0   PassengerId  418 non-null    int64  \n",
      " 1   Pclass       418 non-null    int64  \n",
      " 2   Name         418 non-null    object \n",
      " 3   Sex          418 non-null    object \n",
      " 4   Age          332 non-null    float64\n",
      " 5   SibSp        418 non-null    int64  \n",
      " 6   Parch        418 non-null    int64  \n",
      " 7   Ticket       418 non-null    object \n",
      " 8   Fare         417 non-null    float64\n",
      " 9   Cabin        91 non-null     object \n",
      " 10  Embarked     418 non-null    object \n",
      "dtypes: float64(2), int64(4), object(5)\n",
      "memory usage: 36.0+ KB\n"
     ]
    }
   ],
   "source": [
    "train_data.info()\n",
    "test_data.info()"
   ]
  },
  {
   "cell_type": "code",
   "execution_count": 29,
   "metadata": {
    "execution": {
     "iopub.execute_input": "2020-09-23T18:05:48.230237Z",
     "iopub.status.busy": "2020-09-23T18:05:48.229265Z",
     "iopub.status.idle": "2020-09-23T18:05:48.231650Z",
     "shell.execute_reply": "2020-09-23T18:05:48.232194Z"
    },
    "papermill": {
     "duration": 0.114976,
     "end_time": "2020-09-23T18:05:48.232349",
     "exception": false,
     "start_time": "2020-09-23T18:05:48.117373",
     "status": "completed"
    },
    "tags": []
   },
   "outputs": [],
   "source": [
    "train_data[\"Age\"].fillna(train_data[\"Age\"].mean(), inplace=True)\n",
    "test_data[\"Age\"].fillna(test_data[\"Age\"].mean(), inplace=True)\n",
    "test_data[\"Fare\"].fillna(test_data[\"Fare\"].mean(), inplace=True)"
   ]
  },
  {
   "cell_type": "markdown",
   "metadata": {
    "papermill": {
     "duration": 0.105547,
     "end_time": "2020-09-23T18:05:48.442455",
     "exception": false,
     "start_time": "2020-09-23T18:05:48.336908",
     "status": "completed"
    },
    "tags": []
   },
   "source": [
    "NaN values are replaced with mean of column by using fillna method of pandas in both train and test data.\n",
    "<br> Now, we can deploy our model."
   ]
  },
  {
   "cell_type": "code",
   "execution_count": 30,
   "metadata": {
    "execution": {
     "iopub.execute_input": "2020-09-23T18:05:48.658768Z",
     "iopub.status.busy": "2020-09-23T18:05:48.658009Z",
     "iopub.status.idle": "2020-09-23T18:05:48.661314Z",
     "shell.execute_reply": "2020-09-23T18:05:48.660643Z"
    },
    "papermill": {
     "duration": 0.113979,
     "end_time": "2020-09-23T18:05:48.661447",
     "exception": false,
     "start_time": "2020-09-23T18:05:48.547468",
     "status": "completed"
    },
    "tags": []
   },
   "outputs": [],
   "source": [
    "X=train_data[[\"Pclass\", \"Age\", \"SibSp\", \"Parch\", \"Fare\"]]\n",
    "y=train_data[\"Survived\"]"
   ]
  },
  {
   "cell_type": "code",
   "execution_count": 31,
   "metadata": {
    "execution": {
     "iopub.execute_input": "2020-09-23T18:05:48.881966Z",
     "iopub.status.busy": "2020-09-23T18:05:48.880897Z",
     "iopub.status.idle": "2020-09-23T18:05:48.884425Z",
     "shell.execute_reply": "2020-09-23T18:05:48.883759Z"
    },
    "papermill": {
     "duration": 0.114822,
     "end_time": "2020-09-23T18:05:48.884559",
     "exception": false,
     "start_time": "2020-09-23T18:05:48.769737",
     "status": "completed"
    },
    "tags": []
   },
   "outputs": [],
   "source": [
    "X_train, X_test, y_train, y_test = train_test_split(X, y, test_size=0.3, random_state=42)"
   ]
  },
  {
   "cell_type": "code",
   "execution_count": 32,
   "metadata": {
    "execution": {
     "iopub.execute_input": "2020-09-23T18:05:49.101976Z",
     "iopub.status.busy": "2020-09-23T18:05:49.101214Z",
     "iopub.status.idle": "2020-09-23T18:05:49.384054Z",
     "shell.execute_reply": "2020-09-23T18:05:49.383408Z"
    },
    "papermill": {
     "duration": 0.395284,
     "end_time": "2020-09-23T18:05:49.384189",
     "exception": false,
     "start_time": "2020-09-23T18:05:48.988905",
     "status": "completed"
    },
    "tags": []
   },
   "outputs": [
    {
     "name": "stdout",
     "output_type": "stream",
     "text": [
      "test accuracy:  0.6604477611940298\n"
     ]
    }
   ],
   "source": [
    "rfc=RandomForestClassifier(random_state=35)\n",
    "rfc.fit(X_train, y_train)\n",
    "\n",
    "print(\"test accuracy: \",rfc.score(X_test,y_test))"
   ]
  },
  {
   "cell_type": "markdown",
   "metadata": {
    "papermill": {
     "duration": 0.105167,
     "end_time": "2020-09-23T18:05:49.595267",
     "exception": false,
     "start_time": "2020-09-23T18:05:49.490100",
     "status": "completed"
    },
    "tags": []
   },
   "source": [
    "We could reach the 68% By using only numerical features. We will try to increase our accuracy. We have some other features whose data type is object. These features also have some correlation with surviving that we already saw in previous part.\n",
    "<br> We have convert our string values to some numerical ones. There are 2 main methods here. First method is one hot encoding which create a column for each unique value and fill these columns with binary codes 1 and 0. The other one is label encoding that replace every unique string value with unique number.\n",
    "<br> Both pandas and sckit learn have functions for this process. One hot encoding is possible with pandas.get_dummies and \n",
    "sklearn.preprocessing.OneHotEncoder. For label encoding, we can use pandas.factorize and sklearn.preprocessing.LabelEncoder functions. We will use pandas.factorize here."
   ]
  },
  {
   "cell_type": "code",
   "execution_count": 33,
   "metadata": {
    "execution": {
     "iopub.execute_input": "2020-09-23T18:05:49.818510Z",
     "iopub.status.busy": "2020-09-23T18:05:49.817553Z",
     "iopub.status.idle": "2020-09-23T18:05:49.820891Z",
     "shell.execute_reply": "2020-09-23T18:05:49.820262Z"
    },
    "papermill": {
     "duration": 0.120339,
     "end_time": "2020-09-23T18:05:49.821028",
     "exception": false,
     "start_time": "2020-09-23T18:05:49.700689",
     "status": "completed"
    },
    "tags": []
   },
   "outputs": [],
   "source": [
    "train_data[\"Sex_encoded\"]=pd.factorize(train_data[\"Sex\"])[0]\n",
    "train_data[\"Embarked_encoded\"]=pd.factorize(train_data[\"Embarked\"])[0]\n",
    "\n",
    "test_data[\"Sex_encoded\"]=pd.factorize(test_data[\"Sex\"])[0]\n",
    "test_data[\"Embarked_encoded\"]=pd.factorize(test_data[\"Embarked\"])[0]"
   ]
  },
  {
   "cell_type": "code",
   "execution_count": 34,
   "metadata": {
    "execution": {
     "iopub.execute_input": "2020-09-23T18:05:50.046565Z",
     "iopub.status.busy": "2020-09-23T18:05:50.045498Z",
     "iopub.status.idle": "2020-09-23T18:05:50.066474Z",
     "shell.execute_reply": "2020-09-23T18:05:50.067134Z"
    },
    "papermill": {
     "duration": 0.132682,
     "end_time": "2020-09-23T18:05:50.067296",
     "exception": false,
     "start_time": "2020-09-23T18:05:49.934614",
     "status": "completed"
    },
    "tags": []
   },
   "outputs": [
    {
     "name": "stdout",
     "output_type": "stream",
     "text": [
      "<class 'pandas.core.frame.DataFrame'>\n",
      "RangeIndex: 891 entries, 0 to 890\n",
      "Data columns (total 14 columns):\n",
      " #   Column            Non-Null Count  Dtype  \n",
      "---  ------            --------------  -----  \n",
      " 0   PassengerId       891 non-null    int64  \n",
      " 1   Survived          891 non-null    int64  \n",
      " 2   Pclass            891 non-null    int64  \n",
      " 3   Name              891 non-null    object \n",
      " 4   Sex               891 non-null    object \n",
      " 5   Age               891 non-null    float64\n",
      " 6   SibSp             891 non-null    int64  \n",
      " 7   Parch             891 non-null    int64  \n",
      " 8   Ticket            891 non-null    object \n",
      " 9   Fare              891 non-null    float64\n",
      " 10  Cabin             204 non-null    object \n",
      " 11  Embarked          889 non-null    object \n",
      " 12  Sex_encoded       891 non-null    int64  \n",
      " 13  Embarked_encoded  891 non-null    int64  \n",
      "dtypes: float64(2), int64(7), object(5)\n",
      "memory usage: 97.6+ KB\n",
      "<class 'pandas.core.frame.DataFrame'>\n",
      "RangeIndex: 418 entries, 0 to 417\n",
      "Data columns (total 13 columns):\n",
      " #   Column            Non-Null Count  Dtype  \n",
      "---  ------            --------------  -----  \n",
      " 0   PassengerId       418 non-null    int64  \n",
      " 1   Pclass            418 non-null    int64  \n",
      " 2   Name              418 non-null    object \n",
      " 3   Sex               418 non-null    object \n",
      " 4   Age               418 non-null    float64\n",
      " 5   SibSp             418 non-null    int64  \n",
      " 6   Parch             418 non-null    int64  \n",
      " 7   Ticket            418 non-null    object \n",
      " 8   Fare              418 non-null    float64\n",
      " 9   Cabin             91 non-null     object \n",
      " 10  Embarked          418 non-null    object \n",
      " 11  Sex_encoded       418 non-null    int64  \n",
      " 12  Embarked_encoded  418 non-null    int64  \n",
      "dtypes: float64(2), int64(6), object(5)\n",
      "memory usage: 42.6+ KB\n"
     ]
    }
   ],
   "source": [
    "train_data.info()\n",
    "test_data.info()"
   ]
  },
  {
   "cell_type": "markdown",
   "metadata": {
    "papermill": {
     "duration": 0.105321,
     "end_time": "2020-09-23T18:05:50.279341",
     "exception": false,
     "start_time": "2020-09-23T18:05:50.174020",
     "status": "completed"
    },
    "tags": []
   },
   "source": [
    "We do not need to replace null values in embarked column in train data. Because pandas factorize function encodes null values separately. We could fill the null values with mode value then use encode function however we did in this way."
   ]
  },
  {
   "cell_type": "code",
   "execution_count": 35,
   "metadata": {
    "execution": {
     "iopub.execute_input": "2020-09-23T18:05:50.498577Z",
     "iopub.status.busy": "2020-09-23T18:05:50.497688Z",
     "iopub.status.idle": "2020-09-23T18:05:50.502322Z",
     "shell.execute_reply": "2020-09-23T18:05:50.501655Z"
    },
    "papermill": {
     "duration": 0.116473,
     "end_time": "2020-09-23T18:05:50.502444",
     "exception": false,
     "start_time": "2020-09-23T18:05:50.385971",
     "status": "completed"
    },
    "tags": []
   },
   "outputs": [
    {
     "data": {
      "text/plain": [
       "array(['S', 'C', 'Q', nan], dtype=object)"
      ]
     },
     "execution_count": 35,
     "metadata": {},
     "output_type": "execute_result"
    }
   ],
   "source": [
    "train_data[\"Embarked\"].unique()"
   ]
  },
  {
   "cell_type": "code",
   "execution_count": 36,
   "metadata": {
    "execution": {
     "iopub.execute_input": "2020-09-23T18:05:50.721773Z",
     "iopub.status.busy": "2020-09-23T18:05:50.720990Z",
     "iopub.status.idle": "2020-09-23T18:05:50.725971Z",
     "shell.execute_reply": "2020-09-23T18:05:50.725280Z"
    },
    "papermill": {
     "duration": 0.117029,
     "end_time": "2020-09-23T18:05:50.726092",
     "exception": false,
     "start_time": "2020-09-23T18:05:50.609063",
     "status": "completed"
    },
    "tags": []
   },
   "outputs": [
    {
     "data": {
      "text/plain": [
       "array([ 0,  1,  2, -1])"
      ]
     },
     "execution_count": 36,
     "metadata": {},
     "output_type": "execute_result"
    }
   ],
   "source": [
    "train_data[\"Embarked_encoded\"].unique()"
   ]
  },
  {
   "cell_type": "markdown",
   "metadata": {
    "papermill": {
     "duration": 0.108,
     "end_time": "2020-09-23T18:05:50.940722",
     "exception": false,
     "start_time": "2020-09-23T18:05:50.832722",
     "status": "completed"
    },
    "tags": []
   },
   "source": [
    "Now, we can try one more time to deploy our model with new features."
   ]
  },
  {
   "cell_type": "code",
   "execution_count": 37,
   "metadata": {
    "execution": {
     "iopub.execute_input": "2020-09-23T18:05:51.160974Z",
     "iopub.status.busy": "2020-09-23T18:05:51.160209Z",
     "iopub.status.idle": "2020-09-23T18:05:51.163702Z",
     "shell.execute_reply": "2020-09-23T18:05:51.163149Z"
    },
    "papermill": {
     "duration": 0.116637,
     "end_time": "2020-09-23T18:05:51.163844",
     "exception": false,
     "start_time": "2020-09-23T18:05:51.047207",
     "status": "completed"
    },
    "tags": []
   },
   "outputs": [],
   "source": [
    "X=train_data[[\"Pclass\", \"Age\", \"SibSp\", \"Parch\", \"Fare\", \"Sex_encoded\", \"Embarked_encoded\"]]"
   ]
  },
  {
   "cell_type": "code",
   "execution_count": 38,
   "metadata": {
    "execution": {
     "iopub.execute_input": "2020-09-23T18:05:51.386598Z",
     "iopub.status.busy": "2020-09-23T18:05:51.385376Z",
     "iopub.status.idle": "2020-09-23T18:05:51.390236Z",
     "shell.execute_reply": "2020-09-23T18:05:51.389500Z"
    },
    "papermill": {
     "duration": 0.119328,
     "end_time": "2020-09-23T18:05:51.390363",
     "exception": false,
     "start_time": "2020-09-23T18:05:51.271035",
     "status": "completed"
    },
    "tags": []
   },
   "outputs": [],
   "source": [
    "X_train, X_test, y_train, y_test = train_test_split(X, y, test_size=0.3, random_state=42)"
   ]
  },
  {
   "cell_type": "code",
   "execution_count": 39,
   "metadata": {
    "execution": {
     "iopub.execute_input": "2020-09-23T18:05:51.641213Z",
     "iopub.status.busy": "2020-09-23T18:05:51.636193Z",
     "iopub.status.idle": "2020-09-23T18:05:51.886109Z",
     "shell.execute_reply": "2020-09-23T18:05:51.885267Z"
    },
    "papermill": {
     "duration": 0.386889,
     "end_time": "2020-09-23T18:05:51.886274",
     "exception": false,
     "start_time": "2020-09-23T18:05:51.499385",
     "status": "completed"
    },
    "tags": []
   },
   "outputs": [
    {
     "name": "stdout",
     "output_type": "stream",
     "text": [
      "test accuracy:  0.7910447761194029\n"
     ]
    }
   ],
   "source": [
    "rfc=RandomForestClassifier(random_state=35)\n",
    "rfc.fit(X_train, y_train)\n",
    "\n",
    "print(\"test accuracy: \",rfc.score(X_test,y_test))"
   ]
  },
  {
   "cell_type": "markdown",
   "metadata": {
    "papermill": {
     "duration": 0.107606,
     "end_time": "2020-09-23T18:05:52.102998",
     "exception": false,
     "start_time": "2020-09-23T18:05:51.995392",
     "status": "completed"
    },
    "tags": []
   },
   "source": [
    "As we can see there is increase in accuracy which is almost 10%."
   ]
  },
  {
   "cell_type": "markdown",
   "metadata": {
    "papermill": {
     "duration": 0.10855,
     "end_time": "2020-09-23T18:05:52.319567",
     "exception": false,
     "start_time": "2020-09-23T18:05:52.211017",
     "status": "completed"
    },
    "tags": []
   },
   "source": [
    "We can add one more feature to our data set, that is cabin column. However, it looks like it is not possible by using panda factorize function directly because there are too many different values. Firstly, we will try to acquire only deck codes.\n",
    "<br> Firstly, we complete null values then we take only first letter of each row by using str.slice function from pandas. By this way, we can acquire cabin codes."
   ]
  },
  {
   "cell_type": "code",
   "execution_count": 40,
   "metadata": {
    "execution": {
     "iopub.execute_input": "2020-09-23T18:05:52.545212Z",
     "iopub.status.busy": "2020-09-23T18:05:52.544245Z",
     "iopub.status.idle": "2020-09-23T18:05:52.549277Z",
     "shell.execute_reply": "2020-09-23T18:05:52.548597Z"
    },
    "papermill": {
     "duration": 0.120513,
     "end_time": "2020-09-23T18:05:52.549402",
     "exception": false,
     "start_time": "2020-09-23T18:05:52.428889",
     "status": "completed"
    },
    "tags": []
   },
   "outputs": [
    {
     "data": {
      "text/plain": [
       "array([nan, 'C85', 'C123', 'E46', 'G6', 'C103', 'D56', 'A6',\n",
       "       'C23 C25 C27', 'B78', 'D33', 'B30', 'C52', 'B28', 'C83', 'F33',\n",
       "       'F G73', 'E31', 'A5', 'D10 D12', 'D26', 'C110', 'B58 B60', 'E101',\n",
       "       'F E69', 'D47', 'B86', 'F2', 'C2', 'E33', 'B19', 'A7', 'C49', 'F4',\n",
       "       'A32', 'B4', 'B80', 'A31', 'D36', 'D15', 'C93', 'C78', 'D35',\n",
       "       'C87', 'B77', 'E67', 'B94', 'C125', 'C99', 'C118', 'D7', 'A19',\n",
       "       'B49', 'D', 'C22 C26', 'C106', 'C65', 'E36', 'C54',\n",
       "       'B57 B59 B63 B66', 'C7', 'E34', 'C32', 'B18', 'C124', 'C91', 'E40',\n",
       "       'T', 'C128', 'D37', 'B35', 'E50', 'C82', 'B96 B98', 'E10', 'E44',\n",
       "       'A34', 'C104', 'C111', 'C92', 'E38', 'D21', 'E12', 'E63', 'A14',\n",
       "       'B37', 'C30', 'D20', 'B79', 'E25', 'D46', 'B73', 'C95', 'B38',\n",
       "       'B39', 'B22', 'C86', 'C70', 'A16', 'C101', 'C68', 'A10', 'E68',\n",
       "       'B41', 'A20', 'D19', 'D50', 'D9', 'A23', 'B50', 'A26', 'D48',\n",
       "       'E58', 'C126', 'B71', 'B51 B53 B55', 'D49', 'B5', 'B20', 'F G63',\n",
       "       'C62 C64', 'E24', 'C90', 'C45', 'E8', 'B101', 'D45', 'C46', 'D30',\n",
       "       'E121', 'D11', 'E77', 'F38', 'B3', 'D6', 'B82 B84', 'D17', 'A36',\n",
       "       'B102', 'B69', 'E49', 'C47', 'D28', 'E17', 'A24', 'C50', 'B42',\n",
       "       'C148'], dtype=object)"
      ]
     },
     "execution_count": 40,
     "metadata": {},
     "output_type": "execute_result"
    }
   ],
   "source": [
    "train_data[\"Cabin\"].unique()"
   ]
  },
  {
   "cell_type": "code",
   "execution_count": 41,
   "metadata": {
    "execution": {
     "iopub.execute_input": "2020-09-23T18:05:52.779291Z",
     "iopub.status.busy": "2020-09-23T18:05:52.778163Z",
     "iopub.status.idle": "2020-09-23T18:05:52.782510Z",
     "shell.execute_reply": "2020-09-23T18:05:52.783281Z"
    },
    "papermill": {
     "duration": 0.123969,
     "end_time": "2020-09-23T18:05:52.783464",
     "exception": false,
     "start_time": "2020-09-23T18:05:52.659495",
     "status": "completed"
    },
    "tags": []
   },
   "outputs": [
    {
     "data": {
      "text/plain": [
       "array(['N', 'C', 'E', 'G', 'D', 'A', 'B', 'F', 'T'], dtype=object)"
      ]
     },
     "execution_count": 41,
     "metadata": {},
     "output_type": "execute_result"
    }
   ],
   "source": [
    "train_data[\"Cabin\"].fillna(\"N\", inplace=True)\n",
    "train_data['Cabin_code'] = train_data[\"Cabin\"].str.slice(0,1)\n",
    "train_data['Cabin_code'].unique()"
   ]
  },
  {
   "cell_type": "code",
   "execution_count": 42,
   "metadata": {
    "execution": {
     "iopub.execute_input": "2020-09-23T18:05:53.013532Z",
     "iopub.status.busy": "2020-09-23T18:05:53.012481Z",
     "iopub.status.idle": "2020-09-23T18:05:53.016179Z",
     "shell.execute_reply": "2020-09-23T18:05:53.015536Z"
    },
    "papermill": {
     "duration": 0.122334,
     "end_time": "2020-09-23T18:05:53.016304",
     "exception": false,
     "start_time": "2020-09-23T18:05:52.893970",
     "status": "completed"
    },
    "tags": []
   },
   "outputs": [],
   "source": [
    "test_data[\"Cabin\"].fillna(\"N\", inplace=True)\n",
    "test_data['Cabin_code'] = test_data[\"Cabin\"].str.slice(0,1)"
   ]
  },
  {
   "cell_type": "code",
   "execution_count": 43,
   "metadata": {
    "execution": {
     "iopub.execute_input": "2020-09-23T18:05:53.247436Z",
     "iopub.status.busy": "2020-09-23T18:05:53.246381Z",
     "iopub.status.idle": "2020-09-23T18:05:53.249730Z",
     "shell.execute_reply": "2020-09-23T18:05:53.249116Z"
    },
    "papermill": {
     "duration": 0.123379,
     "end_time": "2020-09-23T18:05:53.249879",
     "exception": false,
     "start_time": "2020-09-23T18:05:53.126500",
     "status": "completed"
    },
    "tags": []
   },
   "outputs": [],
   "source": [
    "train_data[\"Cabin_code_encoded\"]=pd.factorize(train_data[\"Cabin_code\"])[0]\n",
    "\n",
    "test_data[\"Cabin_code_encoded\"]=pd.factorize(test_data[\"Cabin_code\"])[0]"
   ]
  },
  {
   "cell_type": "code",
   "execution_count": 44,
   "metadata": {
    "execution": {
     "iopub.execute_input": "2020-09-23T18:05:53.487028Z",
     "iopub.status.busy": "2020-09-23T18:05:53.477258Z",
     "iopub.status.idle": "2020-09-23T18:05:53.501124Z",
     "shell.execute_reply": "2020-09-23T18:05:53.501976Z"
    },
    "papermill": {
     "duration": 0.141092,
     "end_time": "2020-09-23T18:05:53.502205",
     "exception": false,
     "start_time": "2020-09-23T18:05:53.361113",
     "status": "completed"
    },
    "tags": []
   },
   "outputs": [
    {
     "name": "stdout",
     "output_type": "stream",
     "text": [
      "<class 'pandas.core.frame.DataFrame'>\n",
      "RangeIndex: 891 entries, 0 to 890\n",
      "Data columns (total 16 columns):\n",
      " #   Column              Non-Null Count  Dtype  \n",
      "---  ------              --------------  -----  \n",
      " 0   PassengerId         891 non-null    int64  \n",
      " 1   Survived            891 non-null    int64  \n",
      " 2   Pclass              891 non-null    int64  \n",
      " 3   Name                891 non-null    object \n",
      " 4   Sex                 891 non-null    object \n",
      " 5   Age                 891 non-null    float64\n",
      " 6   SibSp               891 non-null    int64  \n",
      " 7   Parch               891 non-null    int64  \n",
      " 8   Ticket              891 non-null    object \n",
      " 9   Fare                891 non-null    float64\n",
      " 10  Cabin               891 non-null    object \n",
      " 11  Embarked            889 non-null    object \n",
      " 12  Sex_encoded         891 non-null    int64  \n",
      " 13  Embarked_encoded    891 non-null    int64  \n",
      " 14  Cabin_code          891 non-null    object \n",
      " 15  Cabin_code_encoded  891 non-null    int64  \n",
      "dtypes: float64(2), int64(8), object(6)\n",
      "memory usage: 111.5+ KB\n",
      "<class 'pandas.core.frame.DataFrame'>\n",
      "RangeIndex: 418 entries, 0 to 417\n",
      "Data columns (total 15 columns):\n",
      " #   Column              Non-Null Count  Dtype  \n",
      "---  ------              --------------  -----  \n",
      " 0   PassengerId         418 non-null    int64  \n",
      " 1   Pclass              418 non-null    int64  \n",
      " 2   Name                418 non-null    object \n",
      " 3   Sex                 418 non-null    object \n",
      " 4   Age                 418 non-null    float64\n",
      " 5   SibSp               418 non-null    int64  \n",
      " 6   Parch               418 non-null    int64  \n",
      " 7   Ticket              418 non-null    object \n",
      " 8   Fare                418 non-null    float64\n",
      " 9   Cabin               418 non-null    object \n",
      " 10  Embarked            418 non-null    object \n",
      " 11  Sex_encoded         418 non-null    int64  \n",
      " 12  Embarked_encoded    418 non-null    int64  \n",
      " 13  Cabin_code          418 non-null    object \n",
      " 14  Cabin_code_encoded  418 non-null    int64  \n",
      "dtypes: float64(2), int64(7), object(6)\n",
      "memory usage: 49.1+ KB\n"
     ]
    }
   ],
   "source": [
    "train_data.info()\n",
    "test_data.info()"
   ]
  },
  {
   "cell_type": "markdown",
   "metadata": {
    "papermill": {
     "duration": 0.109697,
     "end_time": "2020-09-23T18:05:53.723683",
     "exception": false,
     "start_time": "2020-09-23T18:05:53.613986",
     "status": "completed"
    },
    "tags": []
   },
   "source": [
    "We can use also this feature to train our model."
   ]
  },
  {
   "cell_type": "code",
   "execution_count": 45,
   "metadata": {
    "execution": {
     "iopub.execute_input": "2020-09-23T18:05:53.952262Z",
     "iopub.status.busy": "2020-09-23T18:05:53.951469Z",
     "iopub.status.idle": "2020-09-23T18:05:53.954996Z",
     "shell.execute_reply": "2020-09-23T18:05:53.954351Z"
    },
    "papermill": {
     "duration": 0.121497,
     "end_time": "2020-09-23T18:05:53.955118",
     "exception": false,
     "start_time": "2020-09-23T18:05:53.833621",
     "status": "completed"
    },
    "tags": []
   },
   "outputs": [],
   "source": [
    "X=train_data[[\"Pclass\", \"Age\", \"SibSp\", \"Parch\", \"Fare\", \"Sex_encoded\", \"Embarked_encoded\", \"Cabin_code_encoded\"]]"
   ]
  },
  {
   "cell_type": "code",
   "execution_count": 46,
   "metadata": {
    "execution": {
     "iopub.execute_input": "2020-09-23T18:05:54.183083Z",
     "iopub.status.busy": "2020-09-23T18:05:54.181762Z",
     "iopub.status.idle": "2020-09-23T18:05:54.186089Z",
     "shell.execute_reply": "2020-09-23T18:05:54.185349Z"
    },
    "papermill": {
     "duration": 0.120595,
     "end_time": "2020-09-23T18:05:54.186214",
     "exception": false,
     "start_time": "2020-09-23T18:05:54.065619",
     "status": "completed"
    },
    "tags": []
   },
   "outputs": [],
   "source": [
    "X_train, X_test, y_train, y_test = train_test_split(X, y, test_size=0.3, random_state=42)"
   ]
  },
  {
   "cell_type": "code",
   "execution_count": 47,
   "metadata": {
    "execution": {
     "iopub.execute_input": "2020-09-23T18:05:54.462475Z",
     "iopub.status.busy": "2020-09-23T18:05:54.446867Z",
     "iopub.status.idle": "2020-09-23T18:05:54.715886Z",
     "shell.execute_reply": "2020-09-23T18:05:54.716688Z"
    },
    "papermill": {
     "duration": 0.39377,
     "end_time": "2020-09-23T18:05:54.716917",
     "exception": false,
     "start_time": "2020-09-23T18:05:54.323147",
     "status": "completed"
    },
    "tags": []
   },
   "outputs": [
    {
     "name": "stdout",
     "output_type": "stream",
     "text": [
      "test accuracy:  0.7910447761194029\n"
     ]
    }
   ],
   "source": [
    "rfc=RandomForestClassifier(random_state=35)\n",
    "rfc.fit(X_train, y_train)\n",
    "\n",
    "print(\"test accuracy: \",rfc.score(X_test,y_test))"
   ]
  },
  {
   "cell_type": "markdown",
   "metadata": {
    "papermill": {
     "duration": 0.119543,
     "end_time": "2020-09-23T18:05:54.949165",
     "exception": false,
     "start_time": "2020-09-23T18:05:54.829622",
     "status": "completed"
    },
    "tags": []
   },
   "source": [
    "Adding new feature to our X data set did not change the accuracy."
   ]
  },
  {
   "cell_type": "markdown",
   "metadata": {
    "papermill": {
     "duration": 0.110182,
     "end_time": "2020-09-23T18:05:55.170200",
     "exception": false,
     "start_time": "2020-09-23T18:05:55.060018",
     "status": "completed"
    },
    "tags": []
   },
   "source": [
    "Random forest is a tree-based model so it doesn't require feature scaling. Even it can soften non-linear nature of the model. It is expected that result will be same after feature scaling. We can try and see."
   ]
  },
  {
   "cell_type": "code",
   "execution_count": 48,
   "metadata": {
    "execution": {
     "iopub.execute_input": "2020-09-23T18:05:55.403771Z",
     "iopub.status.busy": "2020-09-23T18:05:55.403054Z",
     "iopub.status.idle": "2020-09-23T18:05:55.411433Z",
     "shell.execute_reply": "2020-09-23T18:05:55.410845Z"
    },
    "papermill": {
     "duration": 0.127818,
     "end_time": "2020-09-23T18:05:55.411563",
     "exception": false,
     "start_time": "2020-09-23T18:05:55.283745",
     "status": "completed"
    },
    "tags": []
   },
   "outputs": [],
   "source": [
    "from sklearn.preprocessing import StandardScaler\n",
    "\n",
    "scaler=StandardScaler()\n",
    "X_train_sc=scaler.fit_transform(X_train)\n",
    "X_test_sc=scaler.transform(X_test)"
   ]
  },
  {
   "cell_type": "code",
   "execution_count": 49,
   "metadata": {
    "execution": {
     "iopub.execute_input": "2020-09-23T18:05:55.657647Z",
     "iopub.status.busy": "2020-09-23T18:05:55.652562Z",
     "iopub.status.idle": "2020-09-23T18:05:55.930775Z",
     "shell.execute_reply": "2020-09-23T18:05:55.931590Z"
    },
    "papermill": {
     "duration": 0.408285,
     "end_time": "2020-09-23T18:05:55.931748",
     "exception": false,
     "start_time": "2020-09-23T18:05:55.523463",
     "status": "completed"
    },
    "tags": []
   },
   "outputs": [
    {
     "name": "stdout",
     "output_type": "stream",
     "text": [
      "train accuracy:  0.9823434991974318\n",
      "test accuracy:  0.7910447761194029\n"
     ]
    }
   ],
   "source": [
    "rfc=RandomForestClassifier(random_state=35)\n",
    "rfc.fit(X_train_sc, y_train)\n",
    "print(\"train accuracy: \",rfc.score(X_train_sc, y_train))\n",
    "print(\"test accuracy: \",rfc.score(X_test_sc,y_test))"
   ]
  },
  {
   "cell_type": "markdown",
   "metadata": {
    "papermill": {
     "duration": 0.111486,
     "end_time": "2020-09-23T18:05:56.155841",
     "exception": false,
     "start_time": "2020-09-23T18:05:56.044355",
     "status": "completed"
    },
    "tags": []
   },
   "source": [
    "As you can see, the test accuracy is same before and after feature scaling (79.1%). So, standardization of features did not help to increase accuracy as we expected."
   ]
  },
  {
   "cell_type": "markdown",
   "metadata": {
    "papermill": {
     "duration": 0.112835,
     "end_time": "2020-09-23T18:05:56.380561",
     "exception": false,
     "start_time": "2020-09-23T18:05:56.267726",
     "status": "completed"
    },
    "tags": []
   },
   "source": [
    "When we look at the train and test accuracies, we can see that the difference between train accuracy is not too small. It can not be called overfitting but still we can try to decrease the gap between accuracies."
   ]
  },
  {
   "cell_type": "markdown",
   "metadata": {
    "papermill": {
     "duration": 0.111943,
     "end_time": "2020-09-23T18:05:56.606209",
     "exception": false,
     "start_time": "2020-09-23T18:05:56.494266",
     "status": "completed"
    },
    "tags": []
   },
   "source": [
    "If we try to fit our model to each feature column, it can give us a insight about which columns cause this slight overfitting."
   ]
  },
  {
   "cell_type": "code",
   "execution_count": 50,
   "metadata": {
    "execution": {
     "iopub.execute_input": "2020-09-23T18:05:56.850633Z",
     "iopub.status.busy": "2020-09-23T18:05:56.840332Z",
     "iopub.status.idle": "2020-09-23T18:05:58.911012Z",
     "shell.execute_reply": "2020-09-23T18:05:58.910038Z"
    },
    "papermill": {
     "duration": 2.193438,
     "end_time": "2020-09-23T18:05:58.911182",
     "exception": false,
     "start_time": "2020-09-23T18:05:56.717744",
     "status": "completed"
    },
    "tags": []
   },
   "outputs": [
    {
     "name": "stdout",
     "output_type": "stream",
     "text": [
      "Pclass train accuracy:  67.25521669341894\n",
      "Pclass test accuracy:  69.40298507462687\n",
      "Age train accuracy:  70.46548956661316\n",
      "Age test accuracy:  54.1044776119403\n",
      "SibSp train accuracy:  62.92134831460674\n",
      "SibSp test accuracy:  58.582089552238806\n",
      "Parch train accuracy:  64.84751203852326\n",
      "Parch test accuracy:  58.95522388059702\n",
      "Fare train accuracy:  80.73836276083468\n",
      "Fare test accuracy:  70.1492537313433\n",
      "Sex_encoded train accuracy:  78.49117174959872\n",
      "Sex_encoded test accuracy:  79.1044776119403\n",
      "Embarked_encoded train accuracy:  65.32905296950241\n",
      "Embarked_encoded test accuracy:  60.447761194029844\n",
      "Cabin_code_encoded train accuracy:  70.14446227929373\n",
      "Cabin_code_encoded test accuracy:  67.91044776119402\n"
     ]
    }
   ],
   "source": [
    "rfc=RandomForestClassifier(random_state=35)\n",
    "for x in X_train.columns:\n",
    "    \n",
    "    rfc.fit(X_train[[x]], y_train)\n",
    "    print(x,\"train accuracy: \",rfc.score(X_train[[x]], y_train)*100)\n",
    "    print(x,\"test accuracy: \",rfc.score(X_test[[x]],y_test)*100)"
   ]
  },
  {
   "cell_type": "markdown",
   "metadata": {
    "papermill": {
     "duration": 0.115447,
     "end_time": "2020-09-23T18:05:59.142613",
     "exception": false,
     "start_time": "2020-09-23T18:05:59.027166",
     "status": "completed"
    },
    "tags": []
   },
   "source": [
    "We can make some comment on these results. \n",
    "Sex columns is the most important feature for our model, only itself has 79% test accuracy. And it also has almost same train and test accuracy which is very ideal stuation.\n",
    "While the difference between train and test accuracies are very little for some features, especially numerical features such as age and fare have bigger difference."
   ]
  },
  {
   "cell_type": "markdown",
   "metadata": {
    "papermill": {
     "duration": 0.115301,
     "end_time": "2020-09-23T18:05:59.372315",
     "exception": false,
     "start_time": "2020-09-23T18:05:59.257014",
     "status": "completed"
    },
    "tags": []
   },
   "source": [
    "We can change the Age and Fare features from numerical to label encoded to increase the efficiency of the model."
   ]
  },
  {
   "cell_type": "code",
   "execution_count": 51,
   "metadata": {
    "execution": {
     "iopub.execute_input": "2020-09-23T18:05:59.614535Z",
     "iopub.status.busy": "2020-09-23T18:05:59.613463Z",
     "iopub.status.idle": "2020-09-23T18:05:59.943732Z",
     "shell.execute_reply": "2020-09-23T18:05:59.943074Z"
    },
    "papermill": {
     "duration": 0.456458,
     "end_time": "2020-09-23T18:05:59.943879",
     "exception": false,
     "start_time": "2020-09-23T18:05:59.487421",
     "status": "completed"
    },
    "tags": []
   },
   "outputs": [
    {
     "data": {
      "text/plain": [
       "Survived\n",
       "0    AxesSubplot(0.125,0.125;0.775x0.755)\n",
       "1    AxesSubplot(0.125,0.125;0.775x0.755)\n",
       "Name: Age, dtype: object"
      ]
     },
     "execution_count": 51,
     "metadata": {},
     "output_type": "execute_result"
    },
    {
     "data": {
      "image/png": "[encoded data removed]",
      "text/plain": [
       "<Figure size 432x288 with 1 Axes>"
      ]
     },
     "metadata": {
      "needs_background": "light"
     },
     "output_type": "display_data"
    }
   ],
   "source": [
    "train_data[\"Age\"].groupby(train_data[\"Survived\"]).plot(kind=\"hist\", bins=20, legend=True, alpha=0.5)"
   ]
  },
  {
   "cell_type": "code",
   "execution_count": 52,
   "metadata": {
    "execution": {
     "iopub.execute_input": "2020-09-23T18:06:00.206820Z",
     "iopub.status.busy": "2020-09-23T18:06:00.205967Z",
     "iopub.status.idle": "2020-09-23T18:06:00.210427Z",
     "shell.execute_reply": "2020-09-23T18:06:00.210970Z"
    },
    "papermill": {
     "duration": 0.145389,
     "end_time": "2020-09-23T18:06:00.211135",
     "exception": false,
     "start_time": "2020-09-23T18:06:00.065746",
     "status": "completed"
    },
    "tags": []
   },
   "outputs": [
    {
     "data": {
      "text/plain": [
       "array([2., 5., 3., 4., 6., 0., 1.])"
      ]
     },
     "execution_count": 52,
     "metadata": {},
     "output_type": "execute_result"
    }
   ],
   "source": [
    "train_data.loc[train_data['Age'] <= 7.5, 'Age_encoded'] = 0\n",
    "train_data.loc[(train_data['Age'] > 7.5) & (train_data['Age'] <= 15), 'Age_encoded'] = 1\n",
    "train_data.loc[(train_data['Age'] > 15) & (train_data['Age'] <= 25), 'Age_encoded'] = 2\n",
    "train_data.loc[(train_data['Age'] > 25) & (train_data['Age'] <= 30), 'Age_encoded'] = 3\n",
    "train_data.loc[(train_data['Age'] > 30) & (train_data['Age'] <= 35), 'Age_encoded'] = 4\n",
    "train_data.loc[(train_data['Age'] > 35) & (train_data['Age'] <= 50), 'Age_encoded'] = 5\n",
    "train_data.loc[train_data['Age'] > 50, 'Age_encoded'] = 6\n",
    "train_data[\"Age_encoded\"].unique()"
   ]
  },
  {
   "cell_type": "code",
   "execution_count": 53,
   "metadata": {
    "execution": {
     "iopub.execute_input": "2020-09-23T18:06:00.470562Z",
     "iopub.status.busy": "2020-09-23T18:06:00.460451Z",
     "iopub.status.idle": "2020-09-23T18:06:00.474894Z",
     "shell.execute_reply": "2020-09-23T18:06:00.474148Z"
    },
    "papermill": {
     "duration": 0.144981,
     "end_time": "2020-09-23T18:06:00.475028",
     "exception": false,
     "start_time": "2020-09-23T18:06:00.330047",
     "status": "completed"
    },
    "tags": []
   },
   "outputs": [
    {
     "data": {
      "text/plain": [
       "array([4., 5., 6., 3., 2., 1., 0.])"
      ]
     },
     "execution_count": 53,
     "metadata": {},
     "output_type": "execute_result"
    }
   ],
   "source": [
    "test_data.loc[test_data['Age'] <= 7.5, 'Age_encoded'] = 0\n",
    "test_data.loc[(test_data['Age'] > 7.5) & (test_data['Age'] <= 15), 'Age_encoded'] = 1\n",
    "test_data.loc[(test_data['Age'] > 15) & (test_data['Age'] <= 25), 'Age_encoded'] = 2\n",
    "test_data.loc[(test_data['Age'] > 25) & (test_data['Age'] <= 30), 'Age_encoded'] = 3\n",
    "test_data.loc[(test_data['Age'] > 30) & (test_data['Age'] <= 35), 'Age_encoded'] = 4\n",
    "test_data.loc[(test_data['Age'] > 35) & (test_data['Age'] <= 50), 'Age_encoded'] = 5\n",
    "test_data.loc[test_data['Age'] > 50, 'Age_encoded'] = 6\n",
    "test_data[\"Age_encoded\"].unique()"
   ]
  },
  {
   "cell_type": "code",
   "execution_count": 54,
   "metadata": {
    "execution": {
     "iopub.execute_input": "2020-09-23T18:06:00.726483Z",
     "iopub.status.busy": "2020-09-23T18:06:00.725573Z",
     "iopub.status.idle": "2020-09-23T18:06:00.729550Z",
     "shell.execute_reply": "2020-09-23T18:06:00.730087Z"
    },
    "papermill": {
     "duration": 0.137189,
     "end_time": "2020-09-23T18:06:00.730247",
     "exception": false,
     "start_time": "2020-09-23T18:06:00.593058",
     "status": "completed"
    },
    "tags": []
   },
   "outputs": [
    {
     "data": {
      "text/html": [
       "<div>\n",
       "<style scoped>\n",
       "    .dataframe tbody tr th:only-of-type {\n",
       "        vertical-align: middle;\n",
       "    }\n",
       "\n",
       "    .dataframe tbody tr th {\n",
       "        vertical-align: top;\n",
       "    }\n",
       "\n",
       "    .dataframe thead th {\n",
       "        text-align: right;\n",
       "    }\n",
       "</style>\n",
       "<table border=\"1\" class=\"dataframe\">\n",
       "  <thead>\n",
       "    <tr style=\"text-align: right;\">\n",
       "      <th></th>\n",
       "      <th>Age_encoded</th>\n",
       "      <th>Survived</th>\n",
       "    </tr>\n",
       "  </thead>\n",
       "  <tbody>\n",
       "    <tr>\n",
       "      <th>0</th>\n",
       "      <td>0.0</td>\n",
       "      <td>0.680000</td>\n",
       "    </tr>\n",
       "    <tr>\n",
       "      <th>1</th>\n",
       "      <td>1.0</td>\n",
       "      <td>0.454545</td>\n",
       "    </tr>\n",
       "    <tr>\n",
       "      <th>2</th>\n",
       "      <td>2.0</td>\n",
       "      <td>0.344037</td>\n",
       "    </tr>\n",
       "    <tr>\n",
       "      <th>3</th>\n",
       "      <td>3.0</td>\n",
       "      <td>0.329825</td>\n",
       "    </tr>\n",
       "    <tr>\n",
       "      <th>4</th>\n",
       "      <td>4.0</td>\n",
       "      <td>0.465909</td>\n",
       "    </tr>\n",
       "    <tr>\n",
       "      <th>5</th>\n",
       "      <td>5.0</td>\n",
       "      <td>0.398693</td>\n",
       "    </tr>\n",
       "    <tr>\n",
       "      <th>6</th>\n",
       "      <td>6.0</td>\n",
       "      <td>0.343750</td>\n",
       "    </tr>\n",
       "  </tbody>\n",
       "</table>\n",
       "</div>"
      ],
      "text/plain": [
       "   Age_encoded  Survived\n",
       "0          0.0  0.680000\n",
       "1          1.0  0.454545\n",
       "2          2.0  0.344037\n",
       "3          3.0  0.329825\n",
       "4          4.0  0.465909\n",
       "5          5.0  0.398693\n",
       "6          6.0  0.343750"
      ]
     },
     "execution_count": 54,
     "metadata": {},
     "output_type": "execute_result"
    }
   ],
   "source": [
    "train_data[['Age_encoded', 'Survived']].groupby(['Age_encoded'], as_index=False).mean()"
   ]
  },
  {
   "cell_type": "code",
   "execution_count": 55,
   "metadata": {
    "execution": {
     "iopub.execute_input": "2020-09-23T18:06:00.974799Z",
     "iopub.status.busy": "2020-09-23T18:06:00.974066Z",
     "iopub.status.idle": "2020-09-23T18:06:01.189039Z",
     "shell.execute_reply": "2020-09-23T18:06:01.189591Z"
    },
    "papermill": {
     "duration": 0.340644,
     "end_time": "2020-09-23T18:06:01.189760",
     "exception": false,
     "start_time": "2020-09-23T18:06:00.849116",
     "status": "completed"
    },
    "tags": []
   },
   "outputs": [
    {
     "data": {
      "text/plain": [
       "<matplotlib.axes._subplots.AxesSubplot at 0x7f20417eed50>"
      ]
     },
     "execution_count": 55,
     "metadata": {},
     "output_type": "execute_result"
    },
    {
     "data": {
      "image/png": "[encoded data removed]",
      "text/plain": [
       "<Figure size 432x288 with 1 Axes>"
      ]
     },
     "metadata": {
      "needs_background": "light"
     },
     "output_type": "display_data"
    }
   ],
   "source": [
    "sns.countplot(train_data[\"Survived\"], hue=train_data[\"Age_encoded\"])"
   ]
  },
  {
   "cell_type": "code",
   "execution_count": 56,
   "metadata": {
    "execution": {
     "iopub.execute_input": "2020-09-23T18:06:01.438680Z",
     "iopub.status.busy": "2020-09-23T18:06:01.437528Z",
     "iopub.status.idle": "2020-09-23T18:06:01.733125Z",
     "shell.execute_reply": "2020-09-23T18:06:01.732396Z"
    },
    "papermill": {
     "duration": 0.422853,
     "end_time": "2020-09-23T18:06:01.733246",
     "exception": false,
     "start_time": "2020-09-23T18:06:01.310393",
     "status": "completed"
    },
    "tags": []
   },
   "outputs": [
    {
     "data": {
      "text/plain": [
       "Survived\n",
       "0    AxesSubplot(0.125,0.125;0.775x0.755)\n",
       "1    AxesSubplot(0.125,0.125;0.775x0.755)\n",
       "Name: Fare, dtype: object"
      ]
     },
     "execution_count": 56,
     "metadata": {},
     "output_type": "execute_result"
    },
    {
     "data": {
      "image/png": "[encoded data removed]",
      "text/plain": [
       "<Figure size 432x288 with 1 Axes>"
      ]
     },
     "metadata": {
      "needs_background": "light"
     },
     "output_type": "display_data"
    }
   ],
   "source": [
    "train_data[\"Fare\"].groupby(train_data[\"Survived\"]).plot(kind=\"hist\", bins=20, legend=True, alpha=0.5)"
   ]
  },
  {
   "cell_type": "code",
   "execution_count": 57,
   "metadata": {
    "execution": {
     "iopub.execute_input": "2020-09-23T18:06:01.996494Z",
     "iopub.status.busy": "2020-09-23T18:06:01.984776Z",
     "iopub.status.idle": "2020-09-23T18:06:02.003980Z",
     "shell.execute_reply": "2020-09-23T18:06:02.003324Z"
    },
    "papermill": {
     "duration": 0.149722,
     "end_time": "2020-09-23T18:06:02.004106",
     "exception": false,
     "start_time": "2020-09-23T18:06:01.854384",
     "status": "completed"
    },
    "tags": []
   },
   "outputs": [
    {
     "data": {
      "text/plain": [
       "array([0., 3., 1., 2., 6., 5., 4.])"
      ]
     },
     "execution_count": 57,
     "metadata": {},
     "output_type": "execute_result"
    }
   ],
   "source": [
    "train_data.loc[train_data['Fare'] <= 12.5, 'Fare_encoded'] = 0\n",
    "train_data.loc[(train_data['Fare'] > 12.5) & (train_data['Fare'] <= 25), 'Fare_encoded'] = 1\n",
    "train_data.loc[(train_data['Fare'] > 25) & (train_data['Fare'] <= 50), 'Fare_encoded'] = 2\n",
    "train_data.loc[(train_data['Fare'] > 50) & (train_data['Fare'] <= 75), 'Fare_encoded'] = 3\n",
    "train_data.loc[(train_data['Fare'] > 75) & (train_data['Fare'] <= 100), 'Fare_encoded'] = 4\n",
    "train_data.loc[(train_data['Fare'] > 100) & (train_data['Fare'] <= 150), 'Fare_encoded'] = 5\n",
    "train_data.loc[train_data['Fare'] > 150, 'Fare_encoded'] = 6\n",
    "train_data[\"Fare_encoded\"].unique()"
   ]
  },
  {
   "cell_type": "code",
   "execution_count": 58,
   "metadata": {
    "execution": {
     "iopub.execute_input": "2020-09-23T18:06:02.270074Z",
     "iopub.status.busy": "2020-09-23T18:06:02.256247Z",
     "iopub.status.idle": "2020-09-23T18:06:02.274662Z",
     "shell.execute_reply": "2020-09-23T18:06:02.273936Z"
    },
    "papermill": {
     "duration": 0.148379,
     "end_time": "2020-09-23T18:06:02.274787",
     "exception": false,
     "start_time": "2020-09-23T18:06:02.126408",
     "status": "completed"
    },
    "tags": []
   },
   "outputs": [
    {
     "data": {
      "text/plain": [
       "array([0., 2., 1., 4., 3., 6., 5.])"
      ]
     },
     "execution_count": 58,
     "metadata": {},
     "output_type": "execute_result"
    }
   ],
   "source": [
    "test_data.loc[test_data['Fare'] <= 12.5, 'Fare_encoded'] = 0\n",
    "test_data.loc[(test_data['Fare'] > 12.5) & (test_data['Fare'] <= 25), 'Fare_encoded'] = 1\n",
    "test_data.loc[(test_data['Fare'] > 25) & (test_data['Fare'] <= 50), 'Fare_encoded'] = 2\n",
    "test_data.loc[(test_data['Fare'] > 50) & (test_data['Fare'] <= 75), 'Fare_encoded'] = 3\n",
    "test_data.loc[(test_data['Fare'] > 75) & (test_data['Fare'] <= 100), 'Fare_encoded'] = 4\n",
    "test_data.loc[(test_data['Fare'] > 100) & (test_data['Fare'] <= 150), 'Fare_encoded'] = 5\n",
    "test_data.loc[test_data['Fare'] > 150, 'Fare_encoded'] = 6\n",
    "test_data[\"Fare_encoded\"].unique()"
   ]
  },
  {
   "cell_type": "code",
   "execution_count": 59,
   "metadata": {
    "execution": {
     "iopub.execute_input": "2020-09-23T18:06:02.538048Z",
     "iopub.status.busy": "2020-09-23T18:06:02.530888Z",
     "iopub.status.idle": "2020-09-23T18:06:02.542631Z",
     "shell.execute_reply": "2020-09-23T18:06:02.541906Z"
    },
    "papermill": {
     "duration": 0.143134,
     "end_time": "2020-09-23T18:06:02.542753",
     "exception": false,
     "start_time": "2020-09-23T18:06:02.399619",
     "status": "completed"
    },
    "tags": []
   },
   "outputs": [
    {
     "data": {
      "text/html": [
       "<div>\n",
       "<style scoped>\n",
       "    .dataframe tbody tr th:only-of-type {\n",
       "        vertical-align: middle;\n",
       "    }\n",
       "\n",
       "    .dataframe tbody tr th {\n",
       "        vertical-align: top;\n",
       "    }\n",
       "\n",
       "    .dataframe thead th {\n",
       "        text-align: right;\n",
       "    }\n",
       "</style>\n",
       "<table border=\"1\" class=\"dataframe\">\n",
       "  <thead>\n",
       "    <tr style=\"text-align: right;\">\n",
       "      <th></th>\n",
       "      <th>Fare_encoded</th>\n",
       "      <th>Survived</th>\n",
       "    </tr>\n",
       "  </thead>\n",
       "  <tbody>\n",
       "    <tr>\n",
       "      <th>0</th>\n",
       "      <td>0.0</td>\n",
       "      <td>0.232376</td>\n",
       "    </tr>\n",
       "    <tr>\n",
       "      <th>1</th>\n",
       "      <td>1.0</td>\n",
       "      <td>0.408046</td>\n",
       "    </tr>\n",
       "    <tr>\n",
       "      <th>2</th>\n",
       "      <td>2.0</td>\n",
       "      <td>0.419540</td>\n",
       "    </tr>\n",
       "    <tr>\n",
       "      <th>3</th>\n",
       "      <td>3.0</td>\n",
       "      <td>0.555556</td>\n",
       "    </tr>\n",
       "    <tr>\n",
       "      <th>4</th>\n",
       "      <td>4.0</td>\n",
       "      <td>0.795455</td>\n",
       "    </tr>\n",
       "    <tr>\n",
       "      <th>5</th>\n",
       "      <td>5.0</td>\n",
       "      <td>0.791667</td>\n",
       "    </tr>\n",
       "    <tr>\n",
       "      <th>6</th>\n",
       "      <td>6.0</td>\n",
       "      <td>0.689655</td>\n",
       "    </tr>\n",
       "  </tbody>\n",
       "</table>\n",
       "</div>"
      ],
      "text/plain": [
       "   Fare_encoded  Survived\n",
       "0           0.0  0.232376\n",
       "1           1.0  0.408046\n",
       "2           2.0  0.419540\n",
       "3           3.0  0.555556\n",
       "4           4.0  0.795455\n",
       "5           5.0  0.791667\n",
       "6           6.0  0.689655"
      ]
     },
     "execution_count": 59,
     "metadata": {},
     "output_type": "execute_result"
    }
   ],
   "source": [
    "train_data[['Fare_encoded', 'Survived']].groupby(['Fare_encoded'], as_index=False).mean()"
   ]
  },
  {
   "cell_type": "code",
   "execution_count": 60,
   "metadata": {
    "execution": {
     "iopub.execute_input": "2020-09-23T18:06:02.795802Z",
     "iopub.status.busy": "2020-09-23T18:06:02.795017Z",
     "iopub.status.idle": "2020-09-23T18:06:03.108216Z",
     "shell.execute_reply": "2020-09-23T18:06:03.107553Z"
    },
    "papermill": {
     "duration": 0.44219,
     "end_time": "2020-09-23T18:06:03.108338",
     "exception": false,
     "start_time": "2020-09-23T18:06:02.666148",
     "status": "completed"
    },
    "tags": []
   },
   "outputs": [
    {
     "data": {
      "text/plain": [
       "<matplotlib.axes._subplots.AxesSubplot at 0x7f20414e55d0>"
      ]
     },
     "execution_count": 60,
     "metadata": {},
     "output_type": "execute_result"
    },
    {
     "data": {
      "image/png": "[encoded data removed]",
      "text/plain": [
       "<Figure size 432x288 with 1 Axes>"
      ]
     },
     "metadata": {
      "needs_background": "light"
     },
     "output_type": "display_data"
    }
   ],
   "source": [
    "sns.countplot(train_data[\"Survived\"], hue=train_data[\"Fare_encoded\"])"
   ]
  },
  {
   "cell_type": "markdown",
   "metadata": {
    "papermill": {
     "duration": 0.125727,
     "end_time": "2020-09-23T18:06:03.358502",
     "exception": false,
     "start_time": "2020-09-23T18:06:03.232775",
     "status": "completed"
    },
    "tags": []
   },
   "source": [
    "As you can see the above, Age and Fare columns were converted to discrete values from continous ones. I tried to determine critical points and cut the features from those points. I did it manually but there some functions for it in pandas. These are cut and qcut funcitons. They cut the values according to values and frequencies respectively."
   ]
  },
  {
   "cell_type": "markdown",
   "metadata": {
    "papermill": {
     "duration": 0.125138,
     "end_time": "2020-09-23T18:06:03.608883",
     "exception": false,
     "start_time": "2020-09-23T18:06:03.483745",
     "status": "completed"
    },
    "tags": []
   },
   "source": [
    "Now, we can try our model with the new features."
   ]
  },
  {
   "cell_type": "code",
   "execution_count": 61,
   "metadata": {
    "execution": {
     "iopub.execute_input": "2020-09-23T18:06:03.870145Z",
     "iopub.status.busy": "2020-09-23T18:06:03.869341Z",
     "iopub.status.idle": "2020-09-23T18:06:03.875051Z",
     "shell.execute_reply": "2020-09-23T18:06:03.874258Z"
    },
    "papermill": {
     "duration": 0.141393,
     "end_time": "2020-09-23T18:06:03.875179",
     "exception": false,
     "start_time": "2020-09-23T18:06:03.733786",
     "status": "completed"
    },
    "tags": []
   },
   "outputs": [],
   "source": [
    "X=train_data[[\"Pclass\", \"Age_encoded\", \"SibSp\", \"Parch\", \"Fare_encoded\", \"Sex_encoded\", \"Embarked_encoded\", \"Cabin_code_encoded\"]]\n",
    "X_train, X_test, y_train, y_test = train_test_split(X, y, test_size=0.3, random_state=42)"
   ]
  },
  {
   "cell_type": "code",
   "execution_count": 62,
   "metadata": {
    "execution": {
     "iopub.execute_input": "2020-09-23T18:06:04.138125Z",
     "iopub.status.busy": "2020-09-23T18:06:04.137312Z",
     "iopub.status.idle": "2020-09-23T18:06:04.459356Z",
     "shell.execute_reply": "2020-09-23T18:06:04.460064Z"
    },
    "papermill": {
     "duration": 0.459514,
     "end_time": "2020-09-23T18:06:04.460254",
     "exception": false,
     "start_time": "2020-09-23T18:06:04.000740",
     "status": "completed"
    },
    "tags": []
   },
   "outputs": [
    {
     "name": "stdout",
     "output_type": "stream",
     "text": [
      "train accuracy:  0.9197431781701445\n",
      "test accuracy:  0.7873134328358209\n"
     ]
    }
   ],
   "source": [
    "rfc=RandomForestClassifier(random_state=35)\n",
    "rfc.fit(X_train, y_train)\n",
    "print(\"train accuracy: \",rfc.score(X_train, y_train))\n",
    "print(\"test accuracy: \",rfc.score(X_test,y_test))"
   ]
  },
  {
   "cell_type": "markdown",
   "metadata": {
    "papermill": {
     "duration": 0.13127,
     "end_time": "2020-09-23T18:06:04.733185",
     "exception": false,
     "start_time": "2020-09-23T18:06:04.601915",
     "status": "completed"
    },
    "tags": []
   },
   "source": [
    "Our previous train and test accuracies were 98.2% and 79.1 respecitively. Now train accuracy is 92.0% and test accuracy is 78.7%. It decreased the gap between train and test accuracies, however did not help to increase the test accuracy."
   ]
  },
  {
   "cell_type": "markdown",
   "metadata": {
    "papermill": {
     "duration": 0.125125,
     "end_time": "2020-09-23T18:06:04.985225",
     "exception": false,
     "start_time": "2020-09-23T18:06:04.860100",
     "status": "completed"
    },
    "tags": []
   },
   "source": [
    "### 5. Hyperparameter Tuning"
   ]
  },
  {
   "cell_type": "markdown",
   "metadata": {
    "papermill": {
     "duration": 0.135581,
     "end_time": "2020-09-23T18:06:05.247239",
     "exception": false,
     "start_time": "2020-09-23T18:06:05.111658",
     "status": "completed"
    },
    "tags": []
   },
   "source": [
    "Now, we have model and final data set. Our model has many arguments (n_estimators, criterion, max_depth, min_samples_leaf, etc.) and we need to find the best values for this parameters. For this purpose, we won't try the parameters manually, we will try GridSearchCV and RandomizedSearchCV from sklearn and compare them.\n",
    "<br> GridSearchCV is exhaustive search over specified parameters. It tries each combination in the grid of hyperparameter values and may take long time if we have large data set and too many hyperparamters. On the other hand, RandomizedSearchCV selects random combinations and mostly it finds best parameters in shorter time."
   ]
  },
  {
   "cell_type": "code",
   "execution_count": 63,
   "metadata": {
    "execution": {
     "iopub.execute_input": "2020-09-23T18:06:05.528000Z",
     "iopub.status.busy": "2020-09-23T18:06:05.527123Z",
     "iopub.status.idle": "2020-09-23T18:06:05.530453Z",
     "shell.execute_reply": "2020-09-23T18:06:05.529855Z"
    },
    "papermill": {
     "duration": 0.134613,
     "end_time": "2020-09-23T18:06:05.530583",
     "exception": false,
     "start_time": "2020-09-23T18:06:05.395970",
     "status": "completed"
    },
    "tags": []
   },
   "outputs": [],
   "source": [
    "from sklearn.model_selection import GridSearchCV, RandomizedSearchCV\n",
    "import time"
   ]
  },
  {
   "cell_type": "code",
   "execution_count": 64,
   "metadata": {
    "execution": {
     "iopub.execute_input": "2020-09-23T18:06:05.790235Z",
     "iopub.status.busy": "2020-09-23T18:06:05.789298Z",
     "iopub.status.idle": "2020-09-23T18:06:05.792223Z",
     "shell.execute_reply": "2020-09-23T18:06:05.791490Z"
    },
    "papermill": {
     "duration": 0.136159,
     "end_time": "2020-09-23T18:06:05.792347",
     "exception": false,
     "start_time": "2020-09-23T18:06:05.656188",
     "status": "completed"
    },
    "tags": []
   },
   "outputs": [],
   "source": [
    "rfc_parameters = { \n",
    "    'n_estimators': [100,200,500],\n",
    "    'max_features': ['auto', 'sqrt', 'log2'],\n",
    "    'max_depth' : [6,8,10],\n",
    "    'criterion' :['gini', 'entropy'],\n",
    "    'min_samples_split': [2, 4, 6]\n",
    "}"
   ]
  },
  {
   "cell_type": "code",
   "execution_count": 65,
   "metadata": {
    "execution": {
     "iopub.execute_input": "2020-09-23T18:06:06.057408Z",
     "iopub.status.busy": "2020-09-23T18:06:06.056395Z",
     "iopub.status.idle": "2020-09-23T18:06:26.778829Z",
     "shell.execute_reply": "2020-09-23T18:06:26.777698Z"
    },
    "papermill": {
     "duration": 20.857691,
     "end_time": "2020-09-23T18:06:26.778967",
     "exception": false,
     "start_time": "2020-09-23T18:06:05.921276",
     "status": "completed"
    },
    "tags": []
   },
   "outputs": [
    {
     "name": "stdout",
     "output_type": "stream",
     "text": [
      "{'n_estimators': 200, 'min_samples_split': 6, 'max_features': 'auto', 'max_depth': 6, 'criterion': 'entropy'}\n",
      "best accuracy : 0.8314322580645161\n",
      "Total execution time: 20.72016143798828 seconds\n"
     ]
    }
   ],
   "source": [
    "start_time = time.time()\n",
    "\n",
    "rand_search= RandomizedSearchCV(rfc, rfc_parameters, cv=5)\n",
    "rand_search.fit(X_train, y_train)\n",
    "print(rand_search.best_params_)\n",
    "print(\"best accuracy :\",rand_search.best_score_)\n",
    "\n",
    "end_time = time.time()\n",
    "print(\"Total execution time: {} seconds\".format(end_time - start_time))"
   ]
  },
  {
   "cell_type": "code",
   "execution_count": 66,
   "metadata": {
    "execution": {
     "iopub.execute_input": "2020-09-23T18:06:27.041462Z",
     "iopub.status.busy": "2020-09-23T18:06:27.040352Z",
     "iopub.status.idle": "2020-09-23T18:15:04.604649Z",
     "shell.execute_reply": "2020-09-23T18:15:04.605338Z"
    },
    "papermill": {
     "duration": 517.700111,
     "end_time": "2020-09-23T18:15:04.605520",
     "exception": false,
     "start_time": "2020-09-23T18:06:26.905409",
     "status": "completed"
    },
    "tags": []
   },
   "outputs": [
    {
     "name": "stdout",
     "output_type": "stream",
     "text": [
      "{'criterion': 'entropy', 'max_depth': 6, 'max_features': 'auto', 'min_samples_split': 6, 'n_estimators': 200}\n",
      "best accuracy : 0.8314322580645161\n",
      "Total execution time: 517.4340822696686 seconds\n"
     ]
    }
   ],
   "source": [
    "start_time = time.time()\n",
    "\n",
    "grid_search= GridSearchCV(rfc, rfc_parameters, cv=5)\n",
    "grid_search.fit(X_train, y_train)\n",
    "print(grid_search.best_params_)\n",
    "print(\"best accuracy :\",grid_search.best_score_)\n",
    "\n",
    "end_time = time.time()\n",
    "print(\"Total execution time: {} seconds\".format(end_time - start_time))"
   ]
  },
  {
   "cell_type": "markdown",
   "metadata": {
    "papermill": {
     "duration": 0.127547,
     "end_time": "2020-09-23T18:15:04.860848",
     "exception": false,
     "start_time": "2020-09-23T18:15:04.733301",
     "status": "completed"
    },
    "tags": []
   },
   "source": [
    "Best parameters and best accuracy values are determined by both random search and grid search. While the best accuracy is around 83% in both of them, cost of the grid search is much higher. There are difference which is more than ten times in the total execuiton times. So, using random search algorithm is good decision in terms of both accuracy and cost."
   ]
  },
  {
   "cell_type": "markdown",
   "metadata": {
    "papermill": {
     "duration": 0.127016,
     "end_time": "2020-09-23T18:15:05.122138",
     "exception": false,
     "start_time": "2020-09-23T18:15:04.995122",
     "status": "completed"
    },
    "tags": []
   },
   "source": [
    "### 6. Conclusion"
   ]
  },
  {
   "cell_type": "markdown",
   "metadata": {
    "papermill": {
     "duration": 0.126885,
     "end_time": "2020-09-23T18:15:05.377323",
     "exception": false,
     "start_time": "2020-09-23T18:15:05.250438",
     "status": "completed"
    },
    "tags": []
   },
   "source": [
    "In this article, we analyzed a data set in terms of all aspects then create machine learning model. Firstly, data is explored detailly to understand it by using plots. Then, data cleaning and manipulation is made step by step. A machine learning model is chosen and efficiency of model is checked in every step. Finally, hyperparameter tuning is made by both random search and grid search and these searching methods are compared in terms of efficiency."
   ]
  },
  {
   "cell_type": "markdown",
   "metadata": {
    "papermill": {
     "duration": 0.128045,
     "end_time": "2020-09-23T18:15:05.632680",
     "exception": false,
     "start_time": "2020-09-23T18:15:05.504635",
     "status": "completed"
    },
    "tags": []
   },
   "source": [
    "### 7. Output"
   ]
  },
  {
   "cell_type": "code",
   "execution_count": 67,
   "metadata": {
    "execution": {
     "iopub.execute_input": "2020-09-23T18:15:05.903376Z",
     "iopub.status.busy": "2020-09-23T18:15:05.895626Z",
     "iopub.status.idle": "2020-09-23T18:15:05.908876Z",
     "shell.execute_reply": "2020-09-23T18:15:05.907906Z"
    },
    "papermill": {
     "duration": 0.148349,
     "end_time": "2020-09-23T18:15:05.909059",
     "exception": false,
     "start_time": "2020-09-23T18:15:05.760710",
     "status": "completed"
    },
    "tags": []
   },
   "outputs": [
    {
     "name": "stdout",
     "output_type": "stream",
     "text": [
      "<class 'pandas.core.frame.DataFrame'>\n",
      "RangeIndex: 418 entries, 0 to 417\n",
      "Data columns (total 17 columns):\n",
      " #   Column              Non-Null Count  Dtype  \n",
      "---  ------              --------------  -----  \n",
      " 0   PassengerId         418 non-null    int64  \n",
      " 1   Pclass              418 non-null    int64  \n",
      " 2   Name                418 non-null    object \n",
      " 3   Sex                 418 non-null    object \n",
      " 4   Age                 418 non-null    float64\n",
      " 5   SibSp               418 non-null    int64  \n",
      " 6   Parch               418 non-null    int64  \n",
      " 7   Ticket              418 non-null    object \n",
      " 8   Fare                418 non-null    float64\n",
      " 9   Cabin               418 non-null    object \n",
      " 10  Embarked            418 non-null    object \n",
      " 11  Sex_encoded         418 non-null    int64  \n",
      " 12  Embarked_encoded    418 non-null    int64  \n",
      " 13  Cabin_code          418 non-null    object \n",
      " 14  Cabin_code_encoded  418 non-null    int64  \n",
      " 15  Age_encoded         418 non-null    float64\n",
      " 16  Fare_encoded        418 non-null    float64\n",
      "dtypes: float64(4), int64(7), object(6)\n",
      "memory usage: 55.6+ KB\n"
     ]
    }
   ],
   "source": [
    "test_data.info()"
   ]
  },
  {
   "cell_type": "code",
   "execution_count": 68,
   "metadata": {
    "execution": {
     "iopub.execute_input": "2020-09-23T18:15:06.174188Z",
     "iopub.status.busy": "2020-09-23T18:15:06.173249Z",
     "iopub.status.idle": "2020-09-23T18:15:06.176500Z",
     "shell.execute_reply": "2020-09-23T18:15:06.175844Z"
    },
    "papermill": {
     "duration": 0.138317,
     "end_time": "2020-09-23T18:15:06.176638",
     "exception": false,
     "start_time": "2020-09-23T18:15:06.038321",
     "status": "completed"
    },
    "tags": []
   },
   "outputs": [],
   "source": [
    "X_test_final=test_data[[\"Pclass\", \"Age_encoded\", \"SibSp\", \"Parch\", \"Fare_encoded\", \"Sex_encoded\", \"Embarked_encoded\", \"Cabin_code_encoded\"]]"
   ]
  },
  {
   "cell_type": "code",
   "execution_count": 69,
   "metadata": {
    "execution": {
     "iopub.execute_input": "2020-09-23T18:15:06.444786Z",
     "iopub.status.busy": "2020-09-23T18:15:06.444044Z",
     "iopub.status.idle": "2020-09-23T18:15:06.942530Z",
     "shell.execute_reply": "2020-09-23T18:15:06.941748Z"
    },
    "papermill": {
     "duration": 0.637819,
     "end_time": "2020-09-23T18:15:06.942658",
     "exception": false,
     "start_time": "2020-09-23T18:15:06.304839",
     "status": "completed"
    },
    "tags": []
   },
   "outputs": [],
   "source": [
    "prediction=rand_search.best_estimator_.predict(X_test_final)\n",
    "output = pd.DataFrame({'PassengerId': test_data[\"PassengerId\"], 'Survived': prediction})\n",
    "output.to_csv('submission.csv', index=False)"
   ]
  },
  {
   "cell_type": "code",
   "execution_count": null,
   "metadata": {
    "papermill": {
     "duration": 0.127774,
     "end_time": "2020-09-23T18:15:07.198004",
     "exception": false,
     "start_time": "2020-09-23T18:15:07.070230",
     "status": "completed"
    },
    "tags": []
   },
   "outputs": [],
   "source": []
  }
 ],
 "metadata": {
  "kernelspec": {
   "display_name": "Python 3",
   "language": "python",
   "name": "python3"
  },
  "language_info": {
   "codemirror_mode": {
    "name": "ipython",
    "version": 3
   },
   "file_extension": ".py",
   "mimetype": "text/x-python",
   "name": "python",
   "nbconvert_exporter": "python",
   "pygments_lexer": "ipython3",
   "version": "3.7.6"
  },
  "papermill": {
   "duration": 583.956954,
   "end_time": "2020-09-23T18:15:07.435290",
   "environment_variables": {},
   "exception": null,
   "input_path": "__notebook__.ipynb",
   "output_path": "__notebook__.ipynb",
   "parameters": {},
   "start_time": "2020-09-23T18:05:23.478336",
   "version": "2.1.0"
  }
 },
 "nbformat": 4,
 "nbformat_minor": 4
}
